{
 "cells": [
  {
   "cell_type": "markdown",
   "id": "df56602b-a665-458b-a581-dd1faa97b5e6",
   "metadata": {
    "tags": []
   },
   "source": [
    "# Long Short-Term Memory (LSTM) Using Darts\n",
    "\n",
    "## What is LSTM? \n",
    "\n",
    "Darts is a python time series forcasting library, we wanted to see what it can do with its implementation of lstm. How much does it differ from ours? Is it better or worse?  what about trainning time?\n",
    "\n",
    "## Darts LSTM Implementation:\n",
    "\n",
    "# TODO: change this\n",
    "Our implementation of the LSTM is available in `./src/lstm.py`. The implementation includes the model as well as all that's needed for the test besnch to be able to use the model. let's check it out:"
   ]
  },
  {
   "cell_type": "code",
   "execution_count": 1,
   "id": "5ba5c980-80f7-4fad-b4b2-1a1b85178ded",
   "metadata": {},
   "outputs": [],
   "source": [
    "import src.darts__lstm as lstm\n",
    "import src.framework__test_bench as tb"
   ]
  },
  {
   "cell_type": "code",
   "execution_count": 2,
   "id": "9b937e4f-bf66-4243-aa23-d3f649305cc7",
   "metadata": {
    "tags": []
   },
   "outputs": [
    {
     "name": "stdout",
     "output_type": "stream",
     "text": [
      "[TEST BENCH] Powering on test bench\n",
      "[TEST BENCH] testing metric='node_mem', app='moc/smaug'.\n",
      "[TEST BENCH] Fetching data for metric='node_mem', app='moc/smaug'.\n",
      "[TEST BENCH] Subsampling data from 1 sample per 1 minute to 1 sample per 10 minutes.\n"
     ]
    },
    {
     "name": "stderr",
     "output_type": "stream",
     "text": [
      "2022-07-16 14:55:28 darts.models.forecasting.torch_forecasting_model INFO: Train dataset contains 13054 samples.\n",
      "2022-07-16 14:55:28 darts.models.forecasting.torch_forecasting_model INFO: Time series values are 32-bits; casting model to float32.\n",
      "2022-07-16 14:55:28 pytorch_lightning.utilities.rank_zero INFO: GPU available: False, used: False\n",
      "2022-07-16 14:55:28 pytorch_lightning.utilities.rank_zero INFO: TPU available: False, using: 0 TPU cores\n",
      "2022-07-16 14:55:28 pytorch_lightning.utilities.rank_zero INFO: IPU available: False, using: 0 IPUs\n",
      "2022-07-16 14:55:28 pytorch_lightning.utilities.rank_zero INFO: HPU available: False, using: 0 HPUs\n",
      "2022-07-16 14:55:28 pytorch_lightning.callbacks.model_summary INFO: \n",
      "  | Name          | Type             | Params\n",
      "---------------------------------------------------\n",
      "0 | criterion     | MSELoss          | 0     \n",
      "1 | train_metrics | MetricCollection | 0     \n",
      "2 | val_metrics   | MetricCollection | 0     \n",
      "3 | rnn           | LSTM             | 41.2 K\n",
      "4 | V             | Linear           | 101   \n",
      "---------------------------------------------------\n",
      "41.3 K    Trainable params\n",
      "0         Non-trainable params\n",
      "41.3 K    Total params\n",
      "0.165     Total estimated model params size (MB)\n"
     ]
    },
    {
     "name": "stdout",
     "output_type": "stream",
     "text": [
      "[TEST BENCH] Throwing out data that is less than 13.333333333333334 hours long.\n",
      "[TEST BENCH] Scaling data.\n",
      "[TEST BENCH] Splitting data into train and test\n",
      "[TEST BENCH] Amount of train/test data is 61\n",
      "[TEST BENCH] Making an instance of the class we want to test\n",
      "[TEST BENCH] Starting training loop\n"
     ]
    },
    {
     "data": {
      "application/vnd.jupyter.widget-view+json": {
       "model_id": "2bbc40150d3b42dfb1b7924e61cf1a4e",
       "version_major": 2,
       "version_minor": 0
      },
      "text/plain": [
       "Training: 0it [00:00, ?it/s]"
      ]
     },
     "metadata": {},
     "output_type": "display_data"
    },
    {
     "name": "stdout",
     "output_type": "stream",
     "text": [
      "[TEST BENCH] Training took 103.11592197418213 seconds.\n",
      "[TEST BENCH] Starting testing loop\n"
     ]
    },
    {
     "data": {
      "application/vnd.jupyter.widget-view+json": {
       "model_id": "08816fce9fb24c8aaf39be6de3222d93",
       "version_major": 2,
       "version_minor": 0
      },
      "text/plain": [
       "Predicting: 102it [00:00, ?it/s]"
      ]
     },
     "metadata": {},
     "output_type": "display_data"
    },
    {
     "ename": "AssertionError",
     "evalue": "",
     "output_type": "error",
     "traceback": [
      "\u001b[1;31m---------------------------------------------------------------------------\u001b[0m",
      "\u001b[1;31mAssertionError\u001b[0m                            Traceback (most recent call last)",
      "Input \u001b[1;32mIn [2]\u001b[0m, in \u001b[0;36m<cell line: 5>\u001b[1;34m()\u001b[0m\n\u001b[0;32m      1\u001b[0m tb \u001b[38;5;241m=\u001b[39m tb\u001b[38;5;241m.\u001b[39mTestBench(\n\u001b[0;32m      2\u001b[0m     class_to_test\u001b[38;5;241m=\u001b[39mlstm\u001b[38;5;241m.\u001b[39mDartsLSTMTester,\n\u001b[0;32m      3\u001b[0m     path_to_data\u001b[38;5;241m=\u001b[39m\u001b[38;5;124m\"\u001b[39m\u001b[38;5;124m./data/\u001b[39m\u001b[38;5;124m\"\u001b[39m\n\u001b[0;32m      4\u001b[0m )\n\u001b[1;32m----> 5\u001b[0m \u001b[43mtb\u001b[49m\u001b[38;5;241;43m.\u001b[39;49m\u001b[43mrun_training_and_tests\u001b[49m\u001b[43m(\u001b[49m\u001b[43m)\u001b[49m\n",
      "File \u001b[1;32m~\\Documents\\uni\\B.A\\semester 10\\236754 - Project in Intelligent Systems\\git_repo\\236754_project_in_intelligent_systems\\jupyter_notebooks\\src\\framework__test_bench.py:305\u001b[0m, in \u001b[0;36mTestBench.run_training_and_tests\u001b[1;34m(self)\u001b[0m\n\u001b[0;32m    303\u001b[0m     metric \u001b[38;5;241m=\u001b[39m dictionary[\u001b[38;5;124m\"\u001b[39m\u001b[38;5;124mmetric\u001b[39m\u001b[38;5;124m\"\u001b[39m]\n\u001b[0;32m    304\u001b[0m     \u001b[38;5;28mprint\u001b[39m(\u001b[38;5;28mself\u001b[39m\u001b[38;5;241m.\u001b[39m__msg, \u001b[38;5;124mf\u001b[39m\u001b[38;5;124m\"\u001b[39m\u001b[38;5;124mtesting metric=\u001b[39m\u001b[38;5;124m'\u001b[39m\u001b[38;5;132;01m{\u001b[39;00mmetric\u001b[38;5;132;01m}\u001b[39;00m\u001b[38;5;124m'\u001b[39m\u001b[38;5;124m, app=\u001b[39m\u001b[38;5;124m'\u001b[39m\u001b[38;5;132;01m{\u001b[39;00mapp\u001b[38;5;132;01m}\u001b[39;00m\u001b[38;5;124m'\u001b[39m\u001b[38;5;124m.\u001b[39m\u001b[38;5;124m\"\u001b[39m)\n\u001b[1;32m--> 305\u001b[0m     mse, precision, recall, f1, training_time, mase, mape \u001b[38;5;241m=\u001b[39m \u001b[38;5;28;43mself\u001b[39;49m\u001b[38;5;241;43m.\u001b[39;49m\u001b[43m__do_one_test\u001b[49m\u001b[43m(\u001b[49m\u001b[43mdictionary\u001b[49m\u001b[38;5;241;43m=\u001b[39;49m\u001b[43mdictionary\u001b[49m\u001b[43m)\u001b[49m\n\u001b[0;32m    306\u001b[0m     full_report \u001b[38;5;241m+\u001b[39m\u001b[38;5;241m=\u001b[39m [(mse, precision, recall, f1, training_time, mase, mape)]\n\u001b[0;32m    307\u001b[0m \u001b[38;5;28;01massert\u001b[39;00m \u001b[38;5;28mlen\u001b[39m(full_report) \u001b[38;5;241m==\u001b[39m \u001b[38;5;28mlen\u001b[39m(\u001b[38;5;28mself\u001b[39m\u001b[38;5;241m.\u001b[39m__tests_to_perform)\n",
      "File \u001b[1;32m~\\Documents\\uni\\B.A\\semester 10\\236754 - Project in Intelligent Systems\\git_repo\\236754_project_in_intelligent_systems\\jupyter_notebooks\\src\\framework__test_bench.py:284\u001b[0m, in \u001b[0;36mTestBench.__do_one_test\u001b[1;34m(self, dictionary)\u001b[0m\n\u001b[0;32m    282\u001b[0m \u001b[38;5;28mprint\u001b[39m(\u001b[38;5;28mself\u001b[39m\u001b[38;5;241m.\u001b[39m__msg, \u001b[38;5;124mf\u001b[39m\u001b[38;5;124m\"\u001b[39m\u001b[38;5;124mTraining took \u001b[39m\u001b[38;5;132;01m{\u001b[39;00mtraining_time\u001b[38;5;132;01m}\u001b[39;00m\u001b[38;5;124m seconds.\u001b[39m\u001b[38;5;124m\"\u001b[39m)\n\u001b[0;32m    283\u001b[0m \u001b[38;5;28mprint\u001b[39m(\u001b[38;5;28mself\u001b[39m\u001b[38;5;241m.\u001b[39m__msg, \u001b[38;5;124m\"\u001b[39m\u001b[38;5;124mStarting testing loop\u001b[39m\u001b[38;5;124m\"\u001b[39m)\n\u001b[1;32m--> 284\u001b[0m mse, precision, recall, f1, mase, mape \u001b[38;5;241m=\u001b[39m \u001b[38;5;28;43mself\u001b[39;49m\u001b[38;5;241;43m.\u001b[39;49m\u001b[43m__test_model\u001b[49m\u001b[43m(\u001b[49m\u001b[43mtest\u001b[49m\u001b[38;5;241;43m=\u001b[39;49m\u001b[43mtest\u001b[49m\u001b[43m,\u001b[49m\u001b[43m \u001b[49m\u001b[43mmodel\u001b[49m\u001b[38;5;241;43m=\u001b[39;49m\u001b[43mmodel\u001b[49m\u001b[43m)\u001b[49m\n\u001b[0;32m    285\u001b[0m \u001b[38;5;28mself\u001b[39m\u001b[38;5;241m.\u001b[39m__print_report(\n\u001b[0;32m    286\u001b[0m     metric\u001b[38;5;241m=\u001b[39mmetric, app\u001b[38;5;241m=\u001b[39mapp, mse\u001b[38;5;241m=\u001b[39mmse, precision\u001b[38;5;241m=\u001b[39mprecision, recall\u001b[38;5;241m=\u001b[39mrecall, f1\u001b[38;5;241m=\u001b[39mf1,\n\u001b[0;32m    287\u001b[0m     training_time\u001b[38;5;241m=\u001b[39mtraining_time, mase\u001b[38;5;241m=\u001b[39mmase, mape\u001b[38;5;241m=\u001b[39mmape\n\u001b[0;32m    288\u001b[0m )\n\u001b[0;32m    289\u001b[0m \u001b[38;5;28mprint\u001b[39m(\u001b[38;5;28mself\u001b[39m\u001b[38;5;241m.\u001b[39m__msg, \u001b[38;5;124mf\u001b[39m\u001b[38;5;124m\"\u001b[39m\u001b[38;5;124mDone with metric=\u001b[39m\u001b[38;5;124m'\u001b[39m\u001b[38;5;132;01m{\u001b[39;00mmetric\u001b[38;5;132;01m}\u001b[39;00m\u001b[38;5;124m'\u001b[39m\u001b[38;5;124m, app=\u001b[39m\u001b[38;5;124m'\u001b[39m\u001b[38;5;132;01m{\u001b[39;00mapp\u001b[38;5;132;01m}\u001b[39;00m\u001b[38;5;124m'\u001b[39m\u001b[38;5;124m\"\u001b[39m)\n",
      "File \u001b[1;32m~\\Documents\\uni\\B.A\\semester 10\\236754 - Project in Intelligent Systems\\git_repo\\236754_project_in_intelligent_systems\\jupyter_notebooks\\src\\framework__test_bench.py:254\u001b[0m, in \u001b[0;36mTestBench.__test_model\u001b[1;34m(self, test, model)\u001b[0m\n\u001b[0;32m    252\u001b[0m total_mape \u001b[38;5;241m=\u001b[39m \u001b[38;5;241m0\u001b[39m\n\u001b[0;32m    253\u001b[0m \u001b[38;5;28;01mfor\u001b[39;00m i, test_sample \u001b[38;5;129;01min\u001b[39;00m \u001b[38;5;28menumerate\u001b[39m(test):\n\u001b[1;32m--> 254\u001b[0m     mse_here, precision, recall, f1, mase, mape \u001b[38;5;241m=\u001b[39m \u001b[38;5;28;43mself\u001b[39;49m\u001b[38;5;241;43m.\u001b[39;49m\u001b[43m__give_one_test_to_model\u001b[49m\u001b[43m(\u001b[49m\n\u001b[0;32m    255\u001b[0m \u001b[43m        \u001b[49m\u001b[43mtest_sample\u001b[49m\u001b[38;5;241;43m=\u001b[39;49m\u001b[43mtest_sample\u001b[49m\u001b[43m,\u001b[49m\u001b[43m \u001b[49m\u001b[43mmodel\u001b[49m\u001b[38;5;241;43m=\u001b[39;49m\u001b[43mmodel\u001b[49m\u001b[43m,\u001b[49m\u001b[43m \u001b[49m\u001b[43mshould_print\u001b[49m\u001b[38;5;241;43m=\u001b[39;49m\u001b[43m(\u001b[49m\u001b[43mi\u001b[49m\u001b[43m \u001b[49m\u001b[38;5;241;43m<\u001b[39;49m\u001b[43m \u001b[49m\u001b[38;5;241;43m10\u001b[39;49m\u001b[43m)\u001b[49m\n\u001b[0;32m    256\u001b[0m \u001b[43m    \u001b[49m\u001b[43m)\u001b[49m\n\u001b[0;32m    257\u001b[0m     total_mse \u001b[38;5;241m+\u001b[39m\u001b[38;5;241m=\u001b[39m mse_here\n\u001b[0;32m    258\u001b[0m     total_precision \u001b[38;5;241m+\u001b[39m\u001b[38;5;241m=\u001b[39m precision\n",
      "File \u001b[1;32m~\\Documents\\uni\\B.A\\semester 10\\236754 - Project in Intelligent Systems\\git_repo\\236754_project_in_intelligent_systems\\jupyter_notebooks\\src\\framework__test_bench.py:196\u001b[0m, in \u001b[0;36mTestBench.__give_one_test_to_model\u001b[1;34m(self, test_sample, model, should_print)\u001b[0m\n\u001b[0;32m    194\u001b[0m how_much_to_predict \u001b[38;5;241m=\u001b[39m \u001b[38;5;28mself\u001b[39m\u001b[38;5;241m.\u001b[39mlength_to_predict\n\u001b[0;32m    195\u001b[0m how_much_to_give \u001b[38;5;241m=\u001b[39m \u001b[38;5;28mlen\u001b[39m(test_sample) \u001b[38;5;241m-\u001b[39m how_much_to_predict\n\u001b[1;32m--> 196\u001b[0m returned_ts_as_np_array \u001b[38;5;241m=\u001b[39m \u001b[43mmodel\u001b[49m\u001b[38;5;241;43m.\u001b[39;49m\u001b[43mpredict\u001b[49m\u001b[43m(\u001b[49m\n\u001b[0;32m    197\u001b[0m \u001b[43m    \u001b[49m\u001b[43mts_as_df_start\u001b[49m\u001b[38;5;241;43m=\u001b[39;49m\u001b[43mtest_sample\u001b[49m\u001b[43m[\u001b[49m\u001b[43m:\u001b[49m\u001b[43m \u001b[49m\u001b[43mhow_much_to_give\u001b[49m\u001b[43m]\u001b[49m\u001b[43m,\u001b[49m\n\u001b[0;32m    198\u001b[0m \u001b[43m    \u001b[49m\u001b[43mhow_much_to_predict\u001b[49m\u001b[38;5;241;43m=\u001b[39;49m\u001b[43mhow_much_to_predict\u001b[49m\n\u001b[0;32m    199\u001b[0m \u001b[43m\u001b[49m\u001b[43m)\u001b[49m\n\u001b[0;32m    200\u001b[0m \u001b[38;5;66;03m# make sure the output is in the right format\u001b[39;00m\n\u001b[0;32m    201\u001b[0m \u001b[38;5;28;01massert\u001b[39;00m \u001b[38;5;28misinstance\u001b[39m(returned_ts_as_np_array, np\u001b[38;5;241m.\u001b[39mndarray)\n",
      "File \u001b[1;32m~\\Documents\\uni\\B.A\\semester 10\\236754 - Project in Intelligent Systems\\git_repo\\236754_project_in_intelligent_systems\\jupyter_notebooks\\src\\darts__lstm.py:81\u001b[0m, in \u001b[0;36mDartsLSTMTester.predict\u001b[1;34m(self, ts_as_df_start, how_much_to_predict)\u001b[0m\n\u001b[0;32m     79\u001b[0m \u001b[38;5;28;01massert\u001b[39;00m \u001b[38;5;28mlen\u001b[39m(res_np_arr) \u001b[38;5;241m==\u001b[39m how_much_to_predict\n\u001b[0;32m     80\u001b[0m \u001b[38;5;28;01massert\u001b[39;00m res_np_arr\u001b[38;5;241m.\u001b[39mshape \u001b[38;5;241m==\u001b[39m (how_much_to_predict,)\n\u001b[1;32m---> 81\u001b[0m \u001b[38;5;28;01massert\u001b[39;00m res_np_arr\u001b[38;5;241m.\u001b[39mdtype \u001b[38;5;241m==\u001b[39m np\u001b[38;5;241m.\u001b[39mfloat64\n\u001b[0;32m     82\u001b[0m \u001b[38;5;28;01mreturn\u001b[39;00m res_np_arr\n",
      "\u001b[1;31mAssertionError\u001b[0m: "
     ]
    }
   ],
   "source": [
    "tb = tb.TestBench(\n",
    "    class_to_test=lstm.DartsLSTMTester,\n",
    "    path_to_data=\"./data/\"\n",
    ")\n",
    "tb.run_training_and_tests()"
   ]
  },
  {
   "cell_type": "code",
   "execution_count": null,
   "id": "a17ea1ec-ecf4-48d8-a0e4-36993f0090af",
   "metadata": {},
   "outputs": [],
   "source": []
  },
  {
   "cell_type": "code",
   "execution_count": null,
   "id": "ad1f33c6-413b-474c-83ac-d075a1349106",
   "metadata": {},
   "outputs": [],
   "source": []
  },
  {
   "cell_type": "code",
   "execution_count": null,
   "id": "5521f707-06ab-443e-b9a2-808ba7e3b66c",
   "metadata": {},
   "outputs": [],
   "source": []
  }
 ],
 "metadata": {
  "kernelspec": {
   "display_name": "Python 3 (ipykernel)",
   "language": "python",
   "name": "python3"
  },
  "language_info": {
   "codemirror_mode": {
    "name": "ipython",
    "version": 3
   },
   "file_extension": ".py",
   "mimetype": "text/x-python",
   "name": "python",
   "nbconvert_exporter": "python",
   "pygments_lexer": "ipython3",
   "version": "3.9.1"
  }
 },
 "nbformat": 4,
 "nbformat_minor": 5
}
