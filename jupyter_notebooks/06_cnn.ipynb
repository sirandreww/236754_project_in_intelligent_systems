{
 "cells": [
  {
   "cell_type": "markdown",
   "id": "df56602b-a665-458b-a581-dd1faa97b5e6",
   "metadata": {
    "tags": []
   },
   "source": [
    "# CNN\n",
    "\n",
    "# Explanation\n",
    "\n",
    "### What is CNN? \n",
    "CNN is a Deep Learning algorithm that is mostly used for computer vision. Simply put,it slides a filter along the input features and computes an element-wise multiplication with a weight matrix. \n",
    "In our project, we want to use a one dimentional version of CNN. Similarly, we will slide a filter along our time-series data and elemtent-wise multiply a continues sub-series with a weight vector. The output is quiet \"intuitive\": we are essentially taking for example 5 days before day i, and averaging out their data to forecast the data of day i. \n",
    "\n",
    "\n"
   ]
  },
  {
   "cell_type": "code",
   "execution_count": 1,
   "id": "fd475f82-da8a-4d7f-9a7d-50e228267d80",
   "metadata": {},
   "outputs": [],
   "source": [
    "import src.tcn_darts\n",
    "import src.test_bench"
   ]
  },
  {
   "cell_type": "code",
   "execution_count": 2,
   "id": "3dcd2065-3b57-440f-bfe2-b4546ca939df",
   "metadata": {},
   "outputs": [
    {
     "name": "stdout",
     "output_type": "stream",
     "text": [
      "[TEST BENCH] Powering on test bench\n",
      "[TEST BENCH] testing metric='node_mem', app='moc/smaug'.\n",
      "[TEST BENCH] Fetching data for metric='node_mem', app='moc/smaug'.\n",
      "[TEST BENCH] Subsampling data from 1 sample per 1 minute to 1 sample per 5 minutes.\n",
      "[TEST BENCH] Throwing out data that is less than 6.666666666666667 hours long.\n",
      "[TEST BENCH] Scaling data.\n",
      "[TEST BENCH] Splitting data into train and test\n",
      "[TEST BENCH] Amount of train/test data is 184\n",
      "[TEST BENCH] Making an instance of the class we want to test\n",
      "[TEST BENCH] Starting training loop\n"
     ]
    },
    {
     "name": "stderr",
     "output_type": "stream",
     "text": [
      "2022-07-15 23:18:49 darts.models.forecasting.tcn_model ERROR: ValueError: The output length must be strictly smaller than the input length\n"
     ]
    },
    {
     "name": "stdout",
     "output_type": "stream",
     "text": [
      "[DartsTCNTester] self.input_chunk_length =  12\n",
      "[DartsTCNTester] input_chunk_length =  12\n",
      "[DartsTCNTester] output_chunk_length =  36\n"
     ]
    },
    {
     "ename": "ValueError",
     "evalue": "The output length must be strictly smaller than the input length",
     "output_type": "error",
     "traceback": [
      "\u001b[1;31m---------------------------------------------------------------------------\u001b[0m",
      "\u001b[1;31mValueError\u001b[0m                                Traceback (most recent call last)",
      "Input \u001b[1;32mIn [2]\u001b[0m, in \u001b[0;36m<cell line: 5>\u001b[1;34m()\u001b[0m\n\u001b[0;32m      1\u001b[0m tb \u001b[38;5;241m=\u001b[39m src\u001b[38;5;241m.\u001b[39mtest_bench\u001b[38;5;241m.\u001b[39mTestBench(\n\u001b[0;32m      2\u001b[0m     class_to_test\u001b[38;5;241m=\u001b[39msrc\u001b[38;5;241m.\u001b[39mtcn_darts\u001b[38;5;241m.\u001b[39mDartsTCNTester,\n\u001b[0;32m      3\u001b[0m     path_to_data\u001b[38;5;241m=\u001b[39m\u001b[38;5;124m\"\u001b[39m\u001b[38;5;124m./data/\u001b[39m\u001b[38;5;124m\"\u001b[39m\n\u001b[0;32m      4\u001b[0m )\n\u001b[1;32m----> 5\u001b[0m \u001b[43mtb\u001b[49m\u001b[38;5;241;43m.\u001b[39;49m\u001b[43mrun_training_and_tests\u001b[49m\u001b[43m(\u001b[49m\u001b[43m)\u001b[49m\n",
      "File \u001b[1;32m~\\Documents\\uni\\B.A\\semester 10\\236754 - Project in Intelligent Systems\\git_repo\\236754_project_in_intelligent_systems\\jupyter_notebooks\\src\\test_bench.py:292\u001b[0m, in \u001b[0;36mTestBench.run_training_and_tests\u001b[1;34m(self)\u001b[0m\n\u001b[0;32m    290\u001b[0m     metric \u001b[38;5;241m=\u001b[39m dictionary[\u001b[38;5;124m\"\u001b[39m\u001b[38;5;124mmetric\u001b[39m\u001b[38;5;124m\"\u001b[39m]\n\u001b[0;32m    291\u001b[0m     \u001b[38;5;28mprint\u001b[39m(\u001b[38;5;28mself\u001b[39m\u001b[38;5;241m.\u001b[39m__msg, \u001b[38;5;124mf\u001b[39m\u001b[38;5;124m\"\u001b[39m\u001b[38;5;124mtesting metric=\u001b[39m\u001b[38;5;124m'\u001b[39m\u001b[38;5;132;01m{\u001b[39;00mmetric\u001b[38;5;132;01m}\u001b[39;00m\u001b[38;5;124m'\u001b[39m\u001b[38;5;124m, app=\u001b[39m\u001b[38;5;124m'\u001b[39m\u001b[38;5;132;01m{\u001b[39;00mapp\u001b[38;5;132;01m}\u001b[39;00m\u001b[38;5;124m'\u001b[39m\u001b[38;5;124m.\u001b[39m\u001b[38;5;124m\"\u001b[39m)\n\u001b[1;32m--> 292\u001b[0m     mse, precision, recall, f1, training_time, mase \u001b[38;5;241m=\u001b[39m \u001b[38;5;28;43mself\u001b[39;49m\u001b[38;5;241;43m.\u001b[39;49m\u001b[43m__do_one_test\u001b[49m\u001b[43m(\u001b[49m\u001b[43mdictionary\u001b[49m\u001b[38;5;241;43m=\u001b[39;49m\u001b[43mdictionary\u001b[49m\u001b[43m)\u001b[49m\n\u001b[0;32m    293\u001b[0m     full_report \u001b[38;5;241m+\u001b[39m\u001b[38;5;241m=\u001b[39m [(mse, precision, recall, f1, training_time, mase)]\n\u001b[0;32m    294\u001b[0m \u001b[38;5;28;01massert\u001b[39;00m \u001b[38;5;28mlen\u001b[39m(full_report) \u001b[38;5;241m==\u001b[39m \u001b[38;5;28mlen\u001b[39m(\u001b[38;5;28mself\u001b[39m\u001b[38;5;241m.\u001b[39m__tests_to_perform)\n",
      "File \u001b[1;32m~\\Documents\\uni\\B.A\\semester 10\\236754 - Project in Intelligent Systems\\git_repo\\236754_project_in_intelligent_systems\\jupyter_notebooks\\src\\test_bench.py:273\u001b[0m, in \u001b[0;36mTestBench.__do_one_test\u001b[1;34m(self, dictionary)\u001b[0m\n\u001b[0;32m    271\u001b[0m \u001b[38;5;28mprint\u001b[39m(\u001b[38;5;28mself\u001b[39m\u001b[38;5;241m.\u001b[39m__msg, \u001b[38;5;124m\"\u001b[39m\u001b[38;5;124mStarting training loop\u001b[39m\u001b[38;5;124m\"\u001b[39m)\n\u001b[0;32m    272\u001b[0m training_start_time \u001b[38;5;241m=\u001b[39m time\u001b[38;5;241m.\u001b[39mtime()\n\u001b[1;32m--> 273\u001b[0m \u001b[43mmodel\u001b[49m\u001b[38;5;241;43m.\u001b[39;49m\u001b[43mlearn_from_data_set\u001b[49m\u001b[43m(\u001b[49m\u001b[43mtraining_data_set\u001b[49m\u001b[38;5;241;43m=\u001b[39;49m\u001b[43mtrain\u001b[49m\u001b[43m)\u001b[49m\n\u001b[0;32m    274\u001b[0m training_stop_time \u001b[38;5;241m=\u001b[39m time\u001b[38;5;241m.\u001b[39mtime()\n\u001b[0;32m    275\u001b[0m \u001b[38;5;28mprint\u001b[39m(\u001b[38;5;28mself\u001b[39m\u001b[38;5;241m.\u001b[39m__msg, \u001b[38;5;124mf\u001b[39m\u001b[38;5;124m\"\u001b[39m\u001b[38;5;124mTraining took \u001b[39m\u001b[38;5;132;01m{\u001b[39;00mtraining_stop_time \u001b[38;5;241m-\u001b[39m training_start_time\u001b[38;5;132;01m}\u001b[39;00m\u001b[38;5;124m seconds.\u001b[39m\u001b[38;5;124m\"\u001b[39m)\n",
      "File \u001b[1;32m~\\Documents\\uni\\B.A\\semester 10\\236754 - Project in Intelligent Systems\\git_repo\\236754_project_in_intelligent_systems\\jupyter_notebooks\\src\\tcn_darts.py:118\u001b[0m, in \u001b[0;36mDartsTCNTester.learn_from_data_set\u001b[1;34m(self, training_data_set)\u001b[0m\n\u001b[0;32m    113\u001b[0m list_of_np_array \u001b[38;5;241m=\u001b[39m [ts_as_df[\u001b[38;5;124m\"\u001b[39m\u001b[38;5;124msample\u001b[39m\u001b[38;5;124m\"\u001b[39m]\u001b[38;5;241m.\u001b[39mto_numpy() \u001b[38;5;28;01mfor\u001b[39;00m ts_as_df \u001b[38;5;129;01min\u001b[39;00m training_data_set]\n\u001b[0;32m    114\u001b[0m list_of_series \u001b[38;5;241m=\u001b[39m [\n\u001b[0;32m    115\u001b[0m     darts\u001b[38;5;241m.\u001b[39mtimeseries\u001b[38;5;241m.\u001b[39mTimeSeries\u001b[38;5;241m.\u001b[39mfrom_values(arr)\n\u001b[0;32m    116\u001b[0m     \u001b[38;5;28;01mfor\u001b[39;00m arr \u001b[38;5;129;01min\u001b[39;00m list_of_np_array\n\u001b[0;32m    117\u001b[0m ]\n\u001b[1;32m--> 118\u001b[0m \u001b[38;5;28;43mself\u001b[39;49m\u001b[38;5;241;43m.\u001b[39;49m\u001b[43m__make_model\u001b[49m\u001b[43m(\u001b[49m\u001b[43mlist_of_series\u001b[49m\u001b[43m)\u001b[49m\n\u001b[0;32m    119\u001b[0m \u001b[38;5;66;03m# if self.is_hyper_parameter_search_required:\u001b[39;00m\n\u001b[0;32m    120\u001b[0m \u001b[38;5;66;03m#     self.find_best_hyper_parameters(list_of_series=list_of_series)\u001b[39;00m\n\u001b[0;32m    121\u001b[0m \u001b[38;5;28mself\u001b[39m\u001b[38;5;241m.\u001b[39m__model\u001b[38;5;241m.\u001b[39mfit(list_of_series)\n",
      "File \u001b[1;32m~\\Documents\\uni\\B.A\\semester 10\\236754 - Project in Intelligent Systems\\git_repo\\236754_project_in_intelligent_systems\\jupyter_notebooks\\src\\tcn_darts.py:96\u001b[0m, in \u001b[0;36mDartsTCNTester.__make_model\u001b[1;34m(self, list_of_series)\u001b[0m\n\u001b[0;32m     93\u001b[0m \u001b[38;5;28mprint\u001b[39m(\u001b[38;5;28mself\u001b[39m\u001b[38;5;241m.\u001b[39m__msg, \u001b[38;5;124m\"\u001b[39m\u001b[38;5;124moutput_chunk_length = \u001b[39m\u001b[38;5;124m\"\u001b[39m, hp[\u001b[38;5;124m\"\u001b[39m\u001b[38;5;124moutput_chunk_length\u001b[39m\u001b[38;5;124m\"\u001b[39m])\n\u001b[0;32m     95\u001b[0m \u001b[38;5;66;03m# Create the model\u001b[39;00m\n\u001b[1;32m---> 96\u001b[0m \u001b[38;5;28mself\u001b[39m\u001b[38;5;241m.\u001b[39m__model \u001b[38;5;241m=\u001b[39m \u001b[43mTCNModel\u001b[49m\u001b[43m(\u001b[49m\n\u001b[0;32m     97\u001b[0m \u001b[43m    \u001b[49m\u001b[43minput_chunk_length\u001b[49m\u001b[38;5;241;43m=\u001b[39;49m\u001b[38;5;28;43mself\u001b[39;49m\u001b[38;5;241;43m.\u001b[39;49m\u001b[43minput_chunk_length\u001b[49m\u001b[43m,\u001b[49m\n\u001b[0;32m     98\u001b[0m \u001b[43m    \u001b[49m\u001b[43moutput_chunk_length\u001b[49m\u001b[38;5;241;43m=\u001b[39;49m\u001b[43mhp\u001b[49m\u001b[43m[\u001b[49m\u001b[38;5;124;43m\"\u001b[39;49m\u001b[38;5;124;43moutput_chunk_length\u001b[39;49m\u001b[38;5;124;43m\"\u001b[39;49m\u001b[43m]\u001b[49m\u001b[43m,\u001b[49m\n\u001b[0;32m     99\u001b[0m \u001b[43m    \u001b[49m\u001b[43mkernel_size\u001b[49m\u001b[38;5;241;43m=\u001b[39;49m\u001b[43mhp\u001b[49m\u001b[43m[\u001b[49m\u001b[38;5;124;43m\"\u001b[39;49m\u001b[38;5;124;43mkernel_size\u001b[39;49m\u001b[38;5;124;43m\"\u001b[39;49m\u001b[43m]\u001b[49m\u001b[43m,\u001b[49m\n\u001b[0;32m    100\u001b[0m \u001b[43m    \u001b[49m\u001b[43mnum_filters\u001b[49m\u001b[38;5;241;43m=\u001b[39;49m\u001b[43mhp\u001b[49m\u001b[43m[\u001b[49m\u001b[38;5;124;43m\"\u001b[39;49m\u001b[38;5;124;43mnum_filters\u001b[39;49m\u001b[38;5;124;43m\"\u001b[39;49m\u001b[43m]\u001b[49m\u001b[43m,\u001b[49m\n\u001b[0;32m    101\u001b[0m \u001b[43m    \u001b[49m\u001b[43mnum_layers\u001b[49m\u001b[38;5;241;43m=\u001b[39;49m\u001b[43mhp\u001b[49m\u001b[43m[\u001b[49m\u001b[38;5;124;43m\"\u001b[39;49m\u001b[38;5;124;43mnum_layers\u001b[39;49m\u001b[38;5;124;43m\"\u001b[39;49m\u001b[43m]\u001b[49m\u001b[43m,\u001b[49m\n\u001b[0;32m    102\u001b[0m \u001b[43m    \u001b[49m\u001b[43mdilation_base\u001b[49m\u001b[38;5;241;43m=\u001b[39;49m\u001b[43mhp\u001b[49m\u001b[43m[\u001b[49m\u001b[38;5;124;43m\"\u001b[39;49m\u001b[38;5;124;43mdilation_base\u001b[39;49m\u001b[38;5;124;43m\"\u001b[39;49m\u001b[43m]\u001b[49m\u001b[43m,\u001b[49m\n\u001b[0;32m    103\u001b[0m \u001b[43m    \u001b[49m\u001b[43mweight_norm\u001b[49m\u001b[38;5;241;43m=\u001b[39;49m\u001b[43mhp\u001b[49m\u001b[43m[\u001b[49m\u001b[38;5;124;43m\"\u001b[39;49m\u001b[38;5;124;43mweight_norm\u001b[39;49m\u001b[38;5;124;43m\"\u001b[39;49m\u001b[43m]\u001b[49m\u001b[43m,\u001b[49m\n\u001b[0;32m    104\u001b[0m \u001b[43m    \u001b[49m\u001b[43mdropout\u001b[49m\u001b[38;5;241;43m=\u001b[39;49m\u001b[43mhp\u001b[49m\u001b[43m[\u001b[49m\u001b[38;5;124;43m\"\u001b[39;49m\u001b[38;5;124;43mdropout\u001b[39;49m\u001b[38;5;124;43m\"\u001b[39;49m\u001b[43m]\u001b[49m\u001b[43m,\u001b[49m\n\u001b[0;32m    105\u001b[0m \u001b[43m    \u001b[49m\u001b[43mbatch_size\u001b[49m\u001b[38;5;241;43m=\u001b[39;49m\u001b[43mhp\u001b[49m\u001b[43m[\u001b[49m\u001b[38;5;124;43m\"\u001b[39;49m\u001b[38;5;124;43mbatch_size\u001b[39;49m\u001b[38;5;124;43m\"\u001b[39;49m\u001b[43m]\u001b[49m\u001b[43m,\u001b[49m\n\u001b[0;32m    106\u001b[0m \u001b[43m    \u001b[49m\u001b[43mn_epochs\u001b[49m\u001b[38;5;241;43m=\u001b[39;49m\u001b[38;5;241;43m500\u001b[39;49m\u001b[43m,\u001b[49m\n\u001b[0;32m    107\u001b[0m \u001b[43m    \u001b[49m\u001b[43mtorch_metrics\u001b[49m\u001b[38;5;241;43m=\u001b[39;49m\u001b[43mtorch_metrics\u001b[49m\u001b[43m,\u001b[49m\n\u001b[0;32m    108\u001b[0m \u001b[43m    \u001b[49m\u001b[43mpl_trainer_kwargs\u001b[49m\u001b[38;5;241;43m=\u001b[39;49m\u001b[43mpl_trainer_kwargs\u001b[49m\u001b[43m,\u001b[49m\n\u001b[0;32m    109\u001b[0m \u001b[43m    \u001b[49m\u001b[43moptimizer_kwargs\u001b[49m\u001b[38;5;241;43m=\u001b[39;49m\u001b[43mhp\u001b[49m\u001b[43m[\u001b[49m\u001b[38;5;124;43m\"\u001b[39;49m\u001b[38;5;124;43moptimizer_kwargs\u001b[39;49m\u001b[38;5;124;43m\"\u001b[39;49m\u001b[43m]\u001b[49m\u001b[43m,\u001b[49m\n\u001b[0;32m    110\u001b[0m \u001b[43m\u001b[49m\u001b[43m)\u001b[49m\n",
      "File \u001b[1;32m~\\miniconda3\\lib\\site-packages\\darts\\models\\forecasting\\forecasting_model.py:92\u001b[0m, in \u001b[0;36mModelMeta.__call__\u001b[1;34m(cls, *args, **kwargs)\u001b[0m\n\u001b[0;32m     89\u001b[0m \u001b[38;5;28mcls\u001b[39m\u001b[38;5;241m.\u001b[39m_model_call \u001b[38;5;241m=\u001b[39m all_params\n\u001b[0;32m     91\u001b[0m \u001b[38;5;66;03m# 6) call model\u001b[39;00m\n\u001b[1;32m---> 92\u001b[0m \u001b[38;5;28;01mreturn\u001b[39;00m \u001b[38;5;28msuper\u001b[39m()\u001b[38;5;241m.\u001b[39m\u001b[38;5;21m__call__\u001b[39m(\u001b[38;5;241m*\u001b[39m\u001b[38;5;241m*\u001b[39mall_params)\n",
      "File \u001b[1;32m~\\miniconda3\\lib\\site-packages\\darts\\models\\forecasting\\tcn_model.py:438\u001b[0m, in \u001b[0;36mTCNModel.__init__\u001b[1;34m(self, input_chunk_length, output_chunk_length, kernel_size, num_filters, num_layers, dilation_base, weight_norm, dropout, **kwargs)\u001b[0m\n\u001b[0;32m    269\u001b[0m \u001b[38;5;124;03m\"\"\"Temporal Convolutional Network Model (TCN).\u001b[39;00m\n\u001b[0;32m    270\u001b[0m \n\u001b[0;32m    271\u001b[0m \u001b[38;5;124;03mThis is an implementation of a dilated TCN used for forecasting, inspired from [1]_.\u001b[39;00m\n\u001b[1;32m   (...)\u001b[0m\n\u001b[0;32m    430\u001b[0m \u001b[38;5;124;03m.. [1] https://arxiv.org/abs/1803.01271\u001b[39;00m\n\u001b[0;32m    431\u001b[0m \u001b[38;5;124;03m\"\"\"\u001b[39;00m\n\u001b[0;32m    433\u001b[0m raise_if_not(\n\u001b[0;32m    434\u001b[0m     kernel_size \u001b[38;5;241m<\u001b[39m input_chunk_length,\n\u001b[0;32m    435\u001b[0m     \u001b[38;5;124m\"\u001b[39m\u001b[38;5;124mThe kernel size must be strictly smaller than the input length.\u001b[39m\u001b[38;5;124m\"\u001b[39m,\n\u001b[0;32m    436\u001b[0m     logger,\n\u001b[0;32m    437\u001b[0m )\n\u001b[1;32m--> 438\u001b[0m \u001b[43mraise_if_not\u001b[49m\u001b[43m(\u001b[49m\n\u001b[0;32m    439\u001b[0m \u001b[43m    \u001b[49m\u001b[43moutput_chunk_length\u001b[49m\u001b[43m \u001b[49m\u001b[38;5;241;43m<\u001b[39;49m\u001b[43m \u001b[49m\u001b[43minput_chunk_length\u001b[49m\u001b[43m,\u001b[49m\n\u001b[0;32m    440\u001b[0m \u001b[43m    \u001b[49m\u001b[38;5;124;43m\"\u001b[39;49m\u001b[38;5;124;43mThe output length must be strictly smaller than the input length\u001b[39;49m\u001b[38;5;124;43m\"\u001b[39;49m\u001b[43m,\u001b[49m\n\u001b[0;32m    441\u001b[0m \u001b[43m    \u001b[49m\u001b[43mlogger\u001b[49m\u001b[43m,\u001b[49m\n\u001b[0;32m    442\u001b[0m \u001b[43m\u001b[49m\u001b[43m)\u001b[49m\n\u001b[0;32m    444\u001b[0m \u001b[38;5;28msuper\u001b[39m()\u001b[38;5;241m.\u001b[39m\u001b[38;5;21m__init__\u001b[39m(\u001b[38;5;241m*\u001b[39m\u001b[38;5;241m*\u001b[39m\u001b[38;5;28mself\u001b[39m\u001b[38;5;241m.\u001b[39m_extract_torch_model_params(\u001b[38;5;241m*\u001b[39m\u001b[38;5;241m*\u001b[39m\u001b[38;5;28mself\u001b[39m\u001b[38;5;241m.\u001b[39mmodel_params))\n\u001b[0;32m    446\u001b[0m \u001b[38;5;66;03m# extract pytorch lightning module kwargs\u001b[39;00m\n",
      "File \u001b[1;32m~\\miniconda3\\lib\\site-packages\\darts\\logging.py:80\u001b[0m, in \u001b[0;36mraise_if_not\u001b[1;34m(condition, message, logger)\u001b[0m\n\u001b[0;32m     78\u001b[0m \u001b[38;5;28;01mif\u001b[39;00m \u001b[38;5;129;01mnot\u001b[39;00m condition:\n\u001b[0;32m     79\u001b[0m     logger\u001b[38;5;241m.\u001b[39merror(\u001b[38;5;124m\"\u001b[39m\u001b[38;5;124mValueError: \u001b[39m\u001b[38;5;124m\"\u001b[39m \u001b[38;5;241m+\u001b[39m message)\n\u001b[1;32m---> 80\u001b[0m     \u001b[38;5;28;01mraise\u001b[39;00m \u001b[38;5;167;01mValueError\u001b[39;00m(message)\n",
      "\u001b[1;31mValueError\u001b[0m: The output length must be strictly smaller than the input length"
     ]
    }
   ],
   "source": [
    "tb = src.test_bench.TestBench(\n",
    "    class_to_test=src.tcn_darts.DartsTCNTester,\n",
    "    path_to_data=\"./data/\"\n",
    ")\n",
    "tb.run_training_and_tests()"
   ]
  }
 ],
 "metadata": {
  "kernelspec": {
   "display_name": "Python 3 (ipykernel)",
   "language": "python",
   "name": "python3"
  },
  "language_info": {
   "codemirror_mode": {
    "name": "ipython",
    "version": 3
   },
   "file_extension": ".py",
   "mimetype": "text/x-python",
   "name": "python",
   "nbconvert_exporter": "python",
   "pygments_lexer": "ipython3",
   "version": "3.9.1"
  }
 },
 "nbformat": 4,
 "nbformat_minor": 5
}
