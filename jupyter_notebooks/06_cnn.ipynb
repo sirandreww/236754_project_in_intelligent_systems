{
 "cells": [
  {
   "cell_type": "markdown",
   "id": "df56602b-a665-458b-a581-dd1faa97b5e6",
   "metadata": {
    "tags": []
   },
   "source": [
    "# CNN\n",
    "\n",
    "# Explanation\n",
    "\n",
    "### What is CNN? \n",
    "CNN is a Deep Learning algorithm that is mostly used for computer vision. Simply put,it slides a filter along the input features and computes an element-wise multiplication with a weight matrix. \n",
    "In our project, we want to use a one dimentional version of CNN. Similarly, we will slide a filter along our time-series data and elemtent-wise multiply a continues sub-series with a weight vector. The output is quiet \"intuitive\": we are essentially taking for example 5 days before day i, and averaging out their data to forecast the data of day i. \n",
    "\n",
    "\n"
   ]
  },
  {
   "cell_type": "code",
   "execution_count": null,
   "id": "fd475f82-da8a-4d7f-9a7d-50e228267d80",
   "metadata": {},
   "outputs": [],
   "source": []
  },
  {
   "cell_type": "code",
   "execution_count": null,
   "id": "3dcd2065-3b57-440f-bfe2-b4546ca939df",
   "metadata": {},
   "outputs": [],
   "source": []
  }
 ],
 "metadata": {
  "kernelspec": {
   "display_name": "Python 3 (ipykernel)",
   "language": "python",
   "name": "python3"
  },
  "language_info": {
   "codemirror_mode": {
    "name": "ipython",
    "version": 3
   },
   "file_extension": ".py",
   "mimetype": "text/x-python",
   "name": "python",
   "nbconvert_exporter": "python",
   "pygments_lexer": "ipython3",
   "version": "3.9.1"
  }
 },
 "nbformat": 4,
 "nbformat_minor": 5
}
