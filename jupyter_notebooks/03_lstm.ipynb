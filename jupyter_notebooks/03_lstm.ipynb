{
 "cells": [
  {
   "cell_type": "markdown",
   "id": "df56602b-a665-458b-a581-dd1faa97b5e6",
   "metadata": {
    "tags": []
   },
   "source": [
    "# Long Short-Term Memory (LSTM)\n",
    "\n",
    "# Explanation\n",
    "\n",
    "### What is LSTM? \n",
    "LSTM stands for long short-term memory networks, used in the field of Deep Learning. It is a variety of recurrent neural networks (RNNs) that are capable of learning long-term dependencies, especially in sequence prediction problems. \n",
    "LSTM has feedback connections, i.e., it is capable of processing the entire sequence of data, apart from single data points such as images.\n",
    "This finds application in speech recognition, machine translation, etc. LSTM is a special kind of RNN, which shows outstanding performance on a large variety of problems."
   ]
  },
  {
   "cell_type": "markdown",
   "id": "67c07208-a42f-4c6b-bd01-ad425beacacd",
   "metadata": {},
   "source": [
    "## imports to LSTM algoruthim"
   ]
  },
  {
   "cell_type": "code",
   "execution_count": 1,
   "id": "07780ca9-7bcd-45d5-8d97-e91dbf7cdda7",
   "metadata": {},
   "outputs": [],
   "source": [
    "\n",
    "import pandas as pd\n",
    "import numpy as np\n",
    "import pickle\n",
    "import seaborn as sns\n",
    "import matplotlib.pyplot as plt\n",
    "from scalecast.Forecaster import Forecaster\n"
   ]
  },
  {
   "cell_type": "code",
   "execution_count": 8,
   "id": "f63a8d65-8368-4b35-bf7f-308cb4e73c34",
   "metadata": {},
   "outputs": [],
   "source": [
    "sns.set(rc={'figure.figsize':(15,8)})\n",
    "\n",
    "df = pd.read_csv('data/AirPassengers.csv',parse_dates=['Month'])"
   ]
  },
  {
   "cell_type": "code",
   "execution_count": null,
   "id": "2448c94d-6e4e-475c-bd7f-655a77298f72",
   "metadata": {},
   "outputs": [],
   "source": []
  },
  {
   "cell_type": "code",
   "execution_count": null,
   "id": "f03e59b3-6ee5-4a25-90b2-5f1b8495be1f",
   "metadata": {},
   "outputs": [],
   "source": []
  },
  {
   "cell_type": "code",
   "execution_count": null,
   "id": "7aff97bc-ee70-4afb-a4cc-267d9e037e00",
   "metadata": {},
   "outputs": [],
   "source": []
  }
 ],
 "metadata": {
  "kernelspec": {
   "display_name": "Python 3 (ipykernel)",
   "language": "python",
   "name": "python3"
  },
  "language_info": {
   "codemirror_mode": {
    "name": "ipython",
    "version": 3
   },
   "file_extension": ".py",
   "mimetype": "text/x-python",
   "name": "python",
   "nbconvert_exporter": "python",
   "pygments_lexer": "ipython3",
   "version": "3.9.7"
  }
 },
 "nbformat": 4,
 "nbformat_minor": 5
}
