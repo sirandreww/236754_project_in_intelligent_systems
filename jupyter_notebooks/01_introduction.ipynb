{
 "cells": [
  {
   "cell_type": "markdown",
   "id": "df56602b-a665-458b-a581-dd1faa97b5e6",
   "metadata": {},
   "source": [
    "# Introduction\n",
    "\n",
    "This repository is meant to house our submittion for 236754 - Project in Intelligent Systems - Spring 2022.\n",
    "\n",
    "In order to explain what we're trying to do here, let's first talk about Kubernetes.\n",
    "Kubernetes is an open source software that manages, automates, deploys and hosts containerized applications.\n",
    "Thw user of kubernetes provides a pod of some contrainerized application that is deployed on the cloud. Kuberentes then is in charge of running the pod and provides the needed resources such as CPU and storage when needed. \n",
    "\n",
    "## Terms used in the project\n",
    "\n",
    "A few term definitions that will be helpful:\n",
    "\n",
    "1. Container: consists of an entire runtime environment of a task. Such as the application code, needed libraries and more.\n",
    "2. Pod: a set of containers. a pod is in charge of supporting these containers. All containers that are in the same pod share the same physical or virtual machine in the cluster.\n",
    "3. Node: a virtual or physical machine that run the pods. \n",
    "4. Namespaces: in a cluster, namespaces are used to seperate different resources.\n",
    "5. Deployement: is used to change the state of a specific pod. The user can request a change of state of a specific pod, the deployment controller would then change the state.\n",
    "\n",
    "Promethius is an open-source monitoring system. Promethius uses Kubernetes and collects time-series data about the running pods, nodes and more. \n",
    "The collected metrics include CPU usage, memory usage amongst other metrics.\n",
    "The data collected gives the users an apprehensive insight into their applications whilst providing real-time metrics that would help them problem-solve.\n",
    "\n",
    "## Our project \n",
    "\n",
    "### Motivation\n",
    "\n",
    "When the user wants a pod to be deployed, Kubernetes needs to allocate resources for that pod to run: most common resources being CPU and storage. This information is specified by the user and given to the kubernetes scheduler which then becomes the limit of cpu/storage that the pod can use. If a pod exceeds the limit, it will be terminated. This can lead to the phenomenon of over-asking for cpu/storage which un-needingly limits the free cpu/storage that the cluster can have.  \n",
    "\n",
    "Our project will aim to use deep learning to forecast cpu/storage usage of a given container. We will use time-series data about cpu/storage usage provided by Promethius to learn and forcast future cpu/storage usage.\n",
    "Our goal is maximize our forcasting abilities and thus use the results to allocate cpu/storage more accurately in the future.\n",
    "\n",
    "### Algorithms\n",
    "\n",
    "The algorithms that we will focus on are:\n",
    "\n",
    "1. LSTM\n",
    "2. TCN\n",
    "3. DeepAR\n",
    "\n",
    "### Code layout\n",
    "\n",
    "All of the code is in `jupyter_notebooks/src/`, it is split into multiple files. Files starting with `framework__` are files that deal with data fetching and scaling and splitting, as well as testing multiple models in a manner which is as fair as possible. For deeper insight read notebooks `jupyter_notebooks/02_data.ipynb` and `jupyter_notebooks/03_test_bench.ipynb`. \n",
    "\n",
    "Files starting with `pytorch__` house a library that helps with making models with pytorch that are easily incorperated into the testing module we previously mentioned, as well as an lstm implementation that uses that library. For more information and details you can take a look at `jupyter_notebooks/04_lstm_pytorch.ipynb`.\n",
    "\n",
    "Files starting with `darts__` house implementations for multiple algorithms, all of them are implemented using the `darts` library for python. For performance results take a look at `jupyter_notebooks/05_lstm_darts.ipynb`, `jupyter_notebooks/06_tcn.ipynb` and `jupyter_notebooks/07_deep_ar.ipynb`."
   ]
  }
 ],
 "metadata": {
  "kernelspec": {
   "display_name": "Python 3 (ipykernel)",
   "language": "python",
   "name": "python3"
  },
  "language_info": {
   "codemirror_mode": {
    "name": "ipython",
    "version": 3
   },
   "file_extension": ".py",
   "mimetype": "text/x-python",
   "name": "python",
   "nbconvert_exporter": "python",
   "pygments_lexer": "ipython3",
   "version": "3.10.4"
  }
 },
 "nbformat": 4,
 "nbformat_minor": 5
}
