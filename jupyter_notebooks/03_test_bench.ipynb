{
 "cells": [
  {
   "cell_type": "markdown",
   "id": "095702ad-b975-4a07-bb46-16560152e83f",
   "metadata": {
    "tags": []
   },
   "source": [
    "# Test Bench\n",
    "\n",
    "Test bench is a class we created that takes in some perediction model and creates multiple instances of that model. Each instance is trained and tested on different data, it is used to easily access the quality of each model on multiple datasets. \n",
    "\n",
    "## What tests will be performed?\n",
    "\n",
    "As of writing this, the test that will be prerforme are the following:"
   ]
  },
  {
   "cell_type": "code",
   "execution_count": null,
   "id": "3bcf9fbe-3645-4750-b949-6daa13509744",
   "metadata": {
    "tags": []
   },
   "outputs": [],
   "source": [
    "# node mem\n",
    "{\"metric\": \"node_mem\",      \"app\": \"moc/smaug\",       \"prediction length\": 16, \"sub sample rate\": 30, \"data length limit\": 30},\n",
    "{\"metric\": \"node_mem\",      \"app\": \"emea/balrog\",     \"prediction length\": 16, \"sub sample rate\": 30, \"data length limit\": 30},\n",
    "# container mem\n",
    "{\"metric\": \"container_mem\", \"app\": \"nmstate-handler\", \"prediction length\": 16, \"sub sample rate\": 30, \"data length limit\": 30},\n",
    "{\"metric\": \"container_mem\", \"app\": \"coredns\",         \"prediction length\": 16, \"sub sample rate\": 30, \"data length limit\": 30},\n",
    "{\"metric\": \"container_mem\", \"app\": \"keepalived\",      \"prediction length\": 16, \"sub sample rate\": 30, \"data length limit\": 30},\n",
    "# container cpu\n",
    "{\"metric\": \"container_cpu\", \"app\": \"kube-rbac-proxy\", \"prediction length\": 16, \"sub sample rate\": 30, \"data length limit\": 30},\n",
    "{\"metric\": \"container_cpu\", \"app\": \"dns\",             \"prediction length\": 16, \"sub sample rate\": 30, \"data length limit\": 30},\n",
    "{\"metric\": \"container_cpu\", \"app\": \"collector\",       \"prediction length\": 16, \"sub sample rate\": 30, \"data length limit\": 30},\n",
    "pass"
   ]
  },
  {
   "cell_type": "markdown",
   "id": "2d682d03-e0b5-4c2a-9e95-288ae4e7fb14",
   "metadata": {
    "tags": []
   },
   "source": [
    "This might change because we might want to predict further into the future or sub-sample more to make it easier for the model to notice the format of the data. As we can see in this example, we would have one sample for each half an hour (maximum value in that time frame), we throw out time series that are shorter than 30 samples (or 15 hours) long, and we are asked to predict 16 samples (or 8 hours) into the future. This test is the same for all models, whcich is where fairness comes from.\n",
    "\n",
    "## How Is It Used?\n",
    "\n",
    "First define a class that has these functions:\n",
    "1. `learn_from_data_set`\n",
    "2. `predict`"
   ]
  },
  {
   "cell_type": "code",
   "execution_count": null,
   "id": "d73ba280-c865-4f50-995a-c4826e5232c7",
   "metadata": {},
   "outputs": [],
   "source": [
    "import numpy as np\n",
    "import src.framework__test_bench as bench"
   ]
  },
  {
   "cell_type": "code",
   "execution_count": null,
   "id": "e2f5b698-d9ef-4bf4-8830-0342b1445c63",
   "metadata": {},
   "outputs": [],
   "source": [
    "class DumbPredictor:\n",
    "    def __init__(self, length_of_shortest_time_series, metric, app):\n",
    "        print(\"Constructor called.\")\n",
    "        self.print_once = True\n",
    "\n",
    "    def learn_from_data_set(self, training_data_set):\n",
    "        print(\"Training started.\")\n",
    "        print(\"What does a dataframe to learn on look like?\")\n",
    "        display(training_data_set[0])\n",
    "        print(\"Training ending.\")\n",
    "\n",
    "    def predict(self, ts_as_df_start, how_much_to_predict):\n",
    "        if self.print_once:\n",
    "            self.print_once = False\n",
    "            print(\"What does a dataframe to predict look like?\")\n",
    "            display(ts_as_df_start)\n",
    "        ts_as_np = ts_as_df_start[\"sample\"].to_numpy()\n",
    "        res = np.resize(ts_as_np, how_much_to_predict)\n",
    "        # these checks will also be done by the testbench\n",
    "        assert isinstance(res, np.ndarray)\n",
    "        assert len(res) == how_much_to_predict\n",
    "        assert res.shape == (how_much_to_predict,)\n",
    "        assert res.dtype == np.float64\n",
    "        return res"
   ]
  },
  {
   "cell_type": "markdown",
   "id": "eb30ae37-7d12-47d9-bca4-79f65d597b85",
   "metadata": {},
   "source": [
    "After the model has been defined (including how you choose to you use each sample for learning, what optimization algorithms and so on) you can send the model to the test_bench to be used for prediction on multiple models.\n",
    "Notice that the class you denfine need to have these methods with the same argument names.\n",
    "\n",
    "Let's now run the test bench on this class."
   ]
  },
  {
   "cell_type": "code",
   "execution_count": null,
   "id": "a888a3b0-52ec-44e8-b6c6-e7ae1f163e03",
   "metadata": {},
   "outputs": [],
   "source": [
    "tb = bench.TestBench(\n",
    "    class_to_test=DumbPredictor,\n",
    "    path_to_data=\"./data/\"\n",
    ")\n",
    "tb.run_training_and_tests()"
   ]
  }
 ],
 "metadata": {
  "kernelspec": {
   "display_name": "Python 3 (ipykernel)",
   "language": "python",
   "name": "python3"
  },
  "language_info": {
   "codemirror_mode": {
    "name": "ipython",
    "version": 3
   },
   "file_extension": ".py",
   "mimetype": "text/x-python",
   "name": "python",
   "nbconvert_exporter": "python",
   "pygments_lexer": "ipython3",
   "version": "3.10.4"
  }
 },
 "nbformat": 4,
 "nbformat_minor": 5
}
