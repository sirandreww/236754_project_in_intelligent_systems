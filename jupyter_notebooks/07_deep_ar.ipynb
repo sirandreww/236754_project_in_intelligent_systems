{
 "cells": [
  {
   "cell_type": "markdown",
   "id": "df56602b-a665-458b-a581-dd1faa97b5e6",
   "metadata": {},
   "source": [
    "# DeepAR\n",
    "\n",
    "\n"
   ]
  },
  {
   "cell_type": "code",
   "execution_count": 1,
   "id": "64d99e3d-5331-4c37-bb24-0c780ba3465a",
   "metadata": {},
   "outputs": [],
   "source": [
    "import src.deep_ar_darts\n",
    "import src.test_bench"
   ]
  },
  {
   "cell_type": "code",
   "execution_count": 2,
   "id": "13b130c9-9957-4d62-b06e-b0e4d0978e4e",
   "metadata": {},
   "outputs": [
    {
     "name": "stdout",
     "output_type": "stream",
     "text": [
      "[TEST BENCH] Powering on test bench\n",
      "[TEST BENCH] testing metric='node_mem', app='moc/smaug'.\n",
      "[TEST BENCH] Fetching data for metric='node_mem', app='moc/smaug'.\n",
      "[TEST BENCH] Subsampling data from 1 sample per 1 minute to 1 sample per 60 minutes.\n",
      "[TEST BENCH] Throwing out data that is less than 24.0 hours long.\n",
      "[TEST BENCH] Scaling data.\n",
      "[TEST BENCH] Splitting data into train and test\n",
      "[TEST BENCH] Amount of train/test data is 29\n",
      "[TEST BENCH] Making an instance of the class we want to test\n",
      "[TEST BENCH] Starting training loop\n",
      "[TEST BENCH] Training took 0.04688310623168945 seconds.\n",
      "[TEST BENCH] Starting testing loop\n"
     ]
    },
    {
     "ename": "ValueError",
     "evalue": "__len__() should return >= 0",
     "output_type": "error",
     "traceback": [
      "\u001b[1;31m---------------------------------------------------------------------------\u001b[0m",
      "\u001b[1;31mValueError\u001b[0m                                Traceback (most recent call last)",
      "Input \u001b[1;32mIn [2]\u001b[0m, in \u001b[0;36m<cell line: 5>\u001b[1;34m()\u001b[0m\n\u001b[0;32m      1\u001b[0m tb \u001b[38;5;241m=\u001b[39m src\u001b[38;5;241m.\u001b[39mtest_bench\u001b[38;5;241m.\u001b[39mTestBench(\n\u001b[0;32m      2\u001b[0m     class_to_test\u001b[38;5;241m=\u001b[39msrc\u001b[38;5;241m.\u001b[39mdeep_ar_darts\u001b[38;5;241m.\u001b[39mDartsTCNTester,\n\u001b[0;32m      3\u001b[0m     path_to_data\u001b[38;5;241m=\u001b[39m\u001b[38;5;124m\"\u001b[39m\u001b[38;5;124m./data/\u001b[39m\u001b[38;5;124m\"\u001b[39m\n\u001b[0;32m      4\u001b[0m )\n\u001b[1;32m----> 5\u001b[0m \u001b[43mtb\u001b[49m\u001b[38;5;241;43m.\u001b[39;49m\u001b[43mrun_training_and_tests\u001b[49m\u001b[43m(\u001b[49m\u001b[43m)\u001b[49m\n",
      "File \u001b[1;32m~\\Documents\\uni\\B.A\\semester 10\\236754 - Project in Intelligent Systems\\git_repo\\236754_project_in_intelligent_systems\\jupyter_notebooks\\src\\test_bench.py:292\u001b[0m, in \u001b[0;36mTestBench.run_training_and_tests\u001b[1;34m(self)\u001b[0m\n\u001b[0;32m    290\u001b[0m     metric \u001b[38;5;241m=\u001b[39m dictionary[\u001b[38;5;124m\"\u001b[39m\u001b[38;5;124mmetric\u001b[39m\u001b[38;5;124m\"\u001b[39m]\n\u001b[0;32m    291\u001b[0m     \u001b[38;5;28mprint\u001b[39m(\u001b[38;5;28mself\u001b[39m\u001b[38;5;241m.\u001b[39m__msg, \u001b[38;5;124mf\u001b[39m\u001b[38;5;124m\"\u001b[39m\u001b[38;5;124mtesting metric=\u001b[39m\u001b[38;5;124m'\u001b[39m\u001b[38;5;132;01m{\u001b[39;00mmetric\u001b[38;5;132;01m}\u001b[39;00m\u001b[38;5;124m'\u001b[39m\u001b[38;5;124m, app=\u001b[39m\u001b[38;5;124m'\u001b[39m\u001b[38;5;132;01m{\u001b[39;00mapp\u001b[38;5;132;01m}\u001b[39;00m\u001b[38;5;124m'\u001b[39m\u001b[38;5;124m.\u001b[39m\u001b[38;5;124m\"\u001b[39m)\n\u001b[1;32m--> 292\u001b[0m     mse, precision, recall, f1, training_time, mase \u001b[38;5;241m=\u001b[39m \u001b[38;5;28;43mself\u001b[39;49m\u001b[38;5;241;43m.\u001b[39;49m\u001b[43m__do_one_test\u001b[49m\u001b[43m(\u001b[49m\u001b[43mdictionary\u001b[49m\u001b[38;5;241;43m=\u001b[39;49m\u001b[43mdictionary\u001b[49m\u001b[43m)\u001b[49m\n\u001b[0;32m    293\u001b[0m     full_report \u001b[38;5;241m+\u001b[39m\u001b[38;5;241m=\u001b[39m [(mse, precision, recall, f1, training_time, mase)]\n\u001b[0;32m    294\u001b[0m \u001b[38;5;28;01massert\u001b[39;00m \u001b[38;5;28mlen\u001b[39m(full_report) \u001b[38;5;241m==\u001b[39m \u001b[38;5;28mlen\u001b[39m(\u001b[38;5;28mself\u001b[39m\u001b[38;5;241m.\u001b[39m__tests_to_perform)\n",
      "File \u001b[1;32m~\\Documents\\uni\\B.A\\semester 10\\236754 - Project in Intelligent Systems\\git_repo\\236754_project_in_intelligent_systems\\jupyter_notebooks\\src\\test_bench.py:277\u001b[0m, in \u001b[0;36mTestBench.__do_one_test\u001b[1;34m(self, dictionary)\u001b[0m\n\u001b[0;32m    275\u001b[0m \u001b[38;5;28mprint\u001b[39m(\u001b[38;5;28mself\u001b[39m\u001b[38;5;241m.\u001b[39m__msg, \u001b[38;5;124mf\u001b[39m\u001b[38;5;124m\"\u001b[39m\u001b[38;5;124mTraining took \u001b[39m\u001b[38;5;132;01m{\u001b[39;00mtraining_stop_time \u001b[38;5;241m-\u001b[39m training_start_time\u001b[38;5;132;01m}\u001b[39;00m\u001b[38;5;124m seconds.\u001b[39m\u001b[38;5;124m\"\u001b[39m)\n\u001b[0;32m    276\u001b[0m \u001b[38;5;28mprint\u001b[39m(\u001b[38;5;28mself\u001b[39m\u001b[38;5;241m.\u001b[39m__msg, \u001b[38;5;124m\"\u001b[39m\u001b[38;5;124mStarting testing loop\u001b[39m\u001b[38;5;124m\"\u001b[39m)\n\u001b[1;32m--> 277\u001b[0m \u001b[38;5;28;01mreturn\u001b[39;00m \u001b[38;5;28;43mself\u001b[39;49m\u001b[38;5;241;43m.\u001b[39;49m\u001b[43m__test_model_and_print_report\u001b[49m\u001b[43m(\u001b[49m\u001b[43mtest\u001b[49m\u001b[38;5;241;43m=\u001b[39;49m\u001b[43mtest\u001b[49m\u001b[43m,\u001b[49m\u001b[43m \u001b[49m\u001b[43mmodel\u001b[49m\u001b[38;5;241;43m=\u001b[39;49m\u001b[43mmodel\u001b[49m\u001b[43m,\u001b[49m\u001b[43m \u001b[49m\u001b[43mmetric\u001b[49m\u001b[38;5;241;43m=\u001b[39;49m\u001b[43mmetric\u001b[49m\u001b[43m,\u001b[49m\u001b[43m \u001b[49m\u001b[43mapp\u001b[49m\u001b[38;5;241;43m=\u001b[39;49m\u001b[43mapp\u001b[49m\u001b[43m,\u001b[49m\u001b[43m \u001b[49m\u001b[43mtraining_time\u001b[49m\u001b[38;5;241;43m=\u001b[39;49m\u001b[43mtraining_stop_time\u001b[49m\u001b[38;5;241;43m-\u001b[39;49m\u001b[43mtraining_start_time\u001b[49m\u001b[43m)\u001b[49m\n",
      "File \u001b[1;32m~\\Documents\\uni\\B.A\\semester 10\\236754 - Project in Intelligent Systems\\git_repo\\236754_project_in_intelligent_systems\\jupyter_notebooks\\src\\test_bench.py:245\u001b[0m, in \u001b[0;36mTestBench.__test_model_and_print_report\u001b[1;34m(self, test, model, metric, app, training_time)\u001b[0m\n\u001b[0;32m    243\u001b[0m total_mase \u001b[38;5;241m=\u001b[39m \u001b[38;5;241m0\u001b[39m\n\u001b[0;32m    244\u001b[0m \u001b[38;5;28;01mfor\u001b[39;00m i, test_sample \u001b[38;5;129;01min\u001b[39;00m \u001b[38;5;28menumerate\u001b[39m(test):\n\u001b[1;32m--> 245\u001b[0m     mse_here, precision, recall, f1, mase \u001b[38;5;241m=\u001b[39m \u001b[38;5;28;43mself\u001b[39;49m\u001b[38;5;241;43m.\u001b[39;49m\u001b[43m__give_one_test_to_model\u001b[49m\u001b[43m(\u001b[49m\n\u001b[0;32m    246\u001b[0m \u001b[43m        \u001b[49m\u001b[43mtest_sample\u001b[49m\u001b[38;5;241;43m=\u001b[39;49m\u001b[43mtest_sample\u001b[49m\u001b[43m,\u001b[49m\u001b[43m \u001b[49m\u001b[43mmodel\u001b[49m\u001b[38;5;241;43m=\u001b[39;49m\u001b[43mmodel\u001b[49m\u001b[43m,\u001b[49m\u001b[43m \u001b[49m\u001b[43mshould_print\u001b[49m\u001b[38;5;241;43m=\u001b[39;49m\u001b[43m(\u001b[49m\u001b[43mi\u001b[49m\u001b[43m \u001b[49m\u001b[38;5;241;43m<\u001b[39;49m\u001b[43m \u001b[49m\u001b[38;5;241;43m10\u001b[39;49m\u001b[43m)\u001b[49m\n\u001b[0;32m    247\u001b[0m \u001b[43m    \u001b[49m\u001b[43m)\u001b[49m\n\u001b[0;32m    248\u001b[0m     total_mse \u001b[38;5;241m+\u001b[39m\u001b[38;5;241m=\u001b[39m mse_here\n\u001b[0;32m    249\u001b[0m     total_precision \u001b[38;5;241m+\u001b[39m\u001b[38;5;241m=\u001b[39m precision\n",
      "File \u001b[1;32m~\\Documents\\uni\\B.A\\semester 10\\236754 - Project in Intelligent Systems\\git_repo\\236754_project_in_intelligent_systems\\jupyter_notebooks\\src\\test_bench.py:186\u001b[0m, in \u001b[0;36mTestBench.__give_one_test_to_model\u001b[1;34m(self, test_sample, model, should_print)\u001b[0m\n\u001b[0;32m    184\u001b[0m how_much_to_predict \u001b[38;5;241m=\u001b[39m \u001b[38;5;28mself\u001b[39m\u001b[38;5;241m.\u001b[39mlength_to_predict\n\u001b[0;32m    185\u001b[0m how_much_to_give \u001b[38;5;241m=\u001b[39m \u001b[38;5;28mlen\u001b[39m(test_sample) \u001b[38;5;241m-\u001b[39m how_much_to_predict\n\u001b[1;32m--> 186\u001b[0m returned_ts_as_np_array \u001b[38;5;241m=\u001b[39m \u001b[43mmodel\u001b[49m\u001b[38;5;241;43m.\u001b[39;49m\u001b[43mpredict\u001b[49m\u001b[43m(\u001b[49m\n\u001b[0;32m    187\u001b[0m \u001b[43m    \u001b[49m\u001b[43mts_as_df_start\u001b[49m\u001b[38;5;241;43m=\u001b[39;49m\u001b[43mtest_sample\u001b[49m\u001b[43m[\u001b[49m\u001b[43m:\u001b[49m\u001b[43m \u001b[49m\u001b[43mhow_much_to_give\u001b[49m\u001b[43m]\u001b[49m\u001b[43m,\u001b[49m\n\u001b[0;32m    188\u001b[0m \u001b[43m    \u001b[49m\u001b[43mhow_much_to_predict\u001b[49m\u001b[38;5;241;43m=\u001b[39;49m\u001b[43mhow_much_to_predict\u001b[49m\n\u001b[0;32m    189\u001b[0m \u001b[43m\u001b[49m\u001b[43m)\u001b[49m\n\u001b[0;32m    190\u001b[0m \u001b[38;5;66;03m# make sure the output is in the right format\u001b[39;00m\n\u001b[0;32m    191\u001b[0m \u001b[38;5;28;01massert\u001b[39;00m \u001b[38;5;28misinstance\u001b[39m(returned_ts_as_np_array, np\u001b[38;5;241m.\u001b[39mndarray)\n",
      "File \u001b[1;32m~\\Documents\\uni\\B.A\\semester 10\\236754 - Project in Intelligent Systems\\git_repo\\236754_project_in_intelligent_systems\\jupyter_notebooks\\src\\deep_ar_darts.py:137\u001b[0m, in \u001b[0;36mDartsTCNTester.predict\u001b[1;34m(self, ts_as_df_start, how_much_to_predict)\u001b[0m\n\u001b[0;32m    122\u001b[0m \u001b[38;5;66;03m# res = self.__model.predict(n=how_much_to_predict, series=series)\u001b[39;00m\n\u001b[0;32m    123\u001b[0m my_model \u001b[38;5;241m=\u001b[39m RNNModel(\n\u001b[0;32m    124\u001b[0m     model\u001b[38;5;241m=\u001b[39m\u001b[38;5;124m\"\u001b[39m\u001b[38;5;124mLSTM\u001b[39m\u001b[38;5;124m\"\u001b[39m,\n\u001b[0;32m    125\u001b[0m     hidden_dim\u001b[38;5;241m=\u001b[39m\u001b[38;5;241m20\u001b[39m,\n\u001b[1;32m   (...)\u001b[0m\n\u001b[0;32m    134\u001b[0m     \u001b[38;5;66;03m# likelihood=GaussianLikelihood(),\u001b[39;00m\n\u001b[0;32m    135\u001b[0m )\n\u001b[1;32m--> 137\u001b[0m \u001b[43mmy_model\u001b[49m\u001b[38;5;241;43m.\u001b[39;49m\u001b[43mfit\u001b[49m\u001b[43m(\u001b[49m\u001b[43mseries\u001b[49m\u001b[43m,\u001b[49m\u001b[43m \u001b[49m\u001b[43mverbose\u001b[49m\u001b[38;5;241;43m=\u001b[39;49m\u001b[38;5;28;43;01mTrue\u001b[39;49;00m\u001b[43m)\u001b[49m\n\u001b[0;32m    138\u001b[0m res \u001b[38;5;241m=\u001b[39m my_model\u001b[38;5;241m.\u001b[39mpredict(n\u001b[38;5;241m=\u001b[39mhow_much_to_predict, series\u001b[38;5;241m=\u001b[39mseries)\n\u001b[0;32m    139\u001b[0m \u001b[38;5;28;01massert\u001b[39;00m \u001b[38;5;28mlen\u001b[39m(res) \u001b[38;5;241m==\u001b[39m how_much_to_predict\n",
      "File \u001b[1;32m~\\miniconda3\\lib\\site-packages\\darts\\utils\\torch.py:112\u001b[0m, in \u001b[0;36mrandom_method.<locals>.decorator\u001b[1;34m(self, *args, **kwargs)\u001b[0m\n\u001b[0;32m    110\u001b[0m \u001b[38;5;28;01mwith\u001b[39;00m fork_rng():\n\u001b[0;32m    111\u001b[0m     manual_seed(\u001b[38;5;28mself\u001b[39m\u001b[38;5;241m.\u001b[39m_random_instance\u001b[38;5;241m.\u001b[39mrandint(\u001b[38;5;241m0\u001b[39m, high\u001b[38;5;241m=\u001b[39mMAX_TORCH_SEED_VALUE))\n\u001b[1;32m--> 112\u001b[0m     \u001b[38;5;28;01mreturn\u001b[39;00m decorated(\u001b[38;5;28mself\u001b[39m, \u001b[38;5;241m*\u001b[39margs, \u001b[38;5;241m*\u001b[39m\u001b[38;5;241m*\u001b[39mkwargs)\n",
      "File \u001b[1;32m~\\miniconda3\\lib\\site-packages\\darts\\models\\forecasting\\torch_forecasting_model.py:769\u001b[0m, in \u001b[0;36mTorchForecastingModel.fit\u001b[1;34m(self, series, past_covariates, future_covariates, val_series, val_past_covariates, val_future_covariates, trainer, verbose, epochs, max_samples_per_ts, num_loader_workers)\u001b[0m\n\u001b[0;32m    766\u001b[0m \u001b[38;5;28;01melse\u001b[39;00m:\n\u001b[0;32m    767\u001b[0m     val_dataset \u001b[38;5;241m=\u001b[39m \u001b[38;5;28;01mNone\u001b[39;00m\n\u001b[1;32m--> 769\u001b[0m logger\u001b[38;5;241m.\u001b[39minfo(\u001b[38;5;124mf\u001b[39m\u001b[38;5;124m\"\u001b[39m\u001b[38;5;124mTrain dataset contains \u001b[39m\u001b[38;5;132;01m{\u001b[39;00m\u001b[38;5;28mlen\u001b[39m(train_dataset)\u001b[38;5;132;01m}\u001b[39;00m\u001b[38;5;124m samples.\u001b[39m\u001b[38;5;124m\"\u001b[39m)\n\u001b[0;32m    771\u001b[0m \u001b[38;5;28;01mreturn\u001b[39;00m \u001b[38;5;28mself\u001b[39m\u001b[38;5;241m.\u001b[39mfit_from_dataset(\n\u001b[0;32m    772\u001b[0m     train_dataset, val_dataset, trainer, verbose, epochs, num_loader_workers\n\u001b[0;32m    773\u001b[0m )\n",
      "File \u001b[1;32m~\\miniconda3\\lib\\site-packages\\darts\\utils\\data\\shifted_dataset.py:241\u001b[0m, in \u001b[0;36mDualCovariatesShiftedDataset.__len__\u001b[1;34m(self)\u001b[0m\n\u001b[0;32m    240\u001b[0m \u001b[38;5;28;01mdef\u001b[39;00m \u001b[38;5;21m__len__\u001b[39m(\u001b[38;5;28mself\u001b[39m):\n\u001b[1;32m--> 241\u001b[0m     \u001b[38;5;28;01mreturn\u001b[39;00m \u001b[38;5;28;43mlen\u001b[39;49m\u001b[43m(\u001b[49m\u001b[38;5;28;43mself\u001b[39;49m\u001b[38;5;241;43m.\u001b[39;49m\u001b[43mds_past\u001b[49m\u001b[43m)\u001b[49m\n",
      "\u001b[1;31mValueError\u001b[0m: __len__() should return >= 0"
     ]
    }
   ],
   "source": [
    "tb = src.test_bench.TestBench(\n",
    "    class_to_test=src.deep_ar_darts.DartsTCNTester,\n",
    "    path_to_data=\"./data/\"\n",
    ")\n",
    "tb.run_training_and_tests()"
   ]
  }
 ],
 "metadata": {
  "kernelspec": {
   "display_name": "Python 3 (ipykernel)",
   "language": "python",
   "name": "python3"
  },
  "language_info": {
   "codemirror_mode": {
    "name": "ipython",
    "version": 3
   },
   "file_extension": ".py",
   "mimetype": "text/x-python",
   "name": "python",
   "nbconvert_exporter": "python",
   "pygments_lexer": "ipython3",
   "version": "3.9.1"
  }
 },
 "nbformat": 4,
 "nbformat_minor": 5
}
