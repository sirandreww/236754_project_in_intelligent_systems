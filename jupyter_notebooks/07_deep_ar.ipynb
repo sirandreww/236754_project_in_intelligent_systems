{
 "cells": [
  {
   "cell_type": "markdown",
   "id": "df56602b-a665-458b-a581-dd1faa97b5e6",
   "metadata": {},
   "source": [
    "# DeepAR\n",
    "\n",
    "Information can be found here:\n",
    "https://unit8co.github.io/darts/examples/08-DeepAR-examples.html\n"
   ]
  },
  {
   "cell_type": "code",
   "execution_count": null,
   "id": "77be572b-3d2b-4499-861f-07b74edb5baa",
   "metadata": {},
   "outputs": [],
   "source": [
    "import src.darts__deep_ar as deep_ar\n",
    "import src.framework__test_bench as tb"
   ]
  },
  {
   "cell_type": "code",
   "execution_count": null,
   "id": "13b130c9-9957-4d62-b06e-b0e4d0978e4e",
   "metadata": {},
   "outputs": [],
   "source": [
    "tb = tb.TestBench(\n",
    "    class_to_test=deep_ar.DartsDeepARTester,\n",
    "    path_to_data=\"./data/\"\n",
    ")\n",
    "tb.run_training_and_tests()"
   ]
  }
 ],
 "metadata": {
  "kernelspec": {
   "display_name": "Python 3 (ipykernel)",
   "language": "python",
   "name": "python3"
  },
  "language_info": {
   "codemirror_mode": {
    "name": "ipython",
    "version": 3
   },
   "file_extension": ".py",
   "mimetype": "text/x-python",
   "name": "python",
   "nbconvert_exporter": "python",
   "pygments_lexer": "ipython3",
   "version": "3.9.1"
  }
 },
 "nbformat": 4,
 "nbformat_minor": 5
}
