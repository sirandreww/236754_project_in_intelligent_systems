{
 "cells": [
  {
   "cell_type": "markdown",
   "id": "df56602b-a665-458b-a581-dd1faa97b5e6",
   "metadata": {},
   "source": [
    "# Data\n",
    "\n",
    "To fetch the data we created a repository that housed a script that fetches the data.<br>\n",
    "The link to the repository can be found here : <br>\n",
    "https://github.com/sirandreww/operate_first_prometheus_data.git\n",
    "\n",
    "We have added more information about what data is being fetched and how in that repository.\n",
    "The main point being that the data we are pulling is:\n",
    "\n",
    "1. Memory-usage data for each container using this Prometheus query `sum(container_memory_working_set_bytes{name!~\".*prometheus.*\", image!=\"\", container!=\"POD\", cluster=\"moc/smaug\"}) by (container, pod, namespace, node)`.\n",
    "   \n",
    "2. CPU-usage data for each container using this Prometheus query `sum(rate(container_cpu_usage_seconds_total{name!~\".*prometheus.*\", image!=\"\", container!=\"POD\", cluster=\"moc/smaug\"}[5m])) by (container, pod, namespace, node)`.\n",
    "   \n",
    "3. Memory-usage percentage data for each node using this Prometheus query `node_memory_Active_bytes/node_memory_MemTotal_bytes*100`.\n"
   ]
  },
  {
   "cell_type": "code",
   "execution_count": null,
   "id": "07780ca9-7bcd-45d5-8d97-e91dbf7cdda7",
   "metadata": {},
   "outputs": [],
   "source": []
  }
 ],
 "metadata": {
  "kernelspec": {
   "display_name": "Python 3",
   "language": "python",
   "name": "python3"
  },
  "language_info": {
   "codemirror_mode": {
    "name": "ipython",
    "version": 3
   },
   "file_extension": ".py",
   "mimetype": "text/x-python",
   "name": "python",
   "nbconvert_exporter": "python",
   "pygments_lexer": "ipython3",
   "version": "3.9.1"
  }
 },
 "nbformat": 4,
 "nbformat_minor": 5
}
