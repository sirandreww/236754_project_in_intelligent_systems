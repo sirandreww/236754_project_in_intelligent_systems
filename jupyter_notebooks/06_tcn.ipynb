{
 "cells": [
  {
   "cell_type": "markdown",
   "id": "df56602b-a665-458b-a581-dd1faa97b5e6",
   "metadata": {
    "tags": []
   },
   "source": [
    "# Temporal Convolutional Networks (TCN)\n",
    "\n",
    "## What is TCN?\n",
    "\n",
    "Temporal Convolutional Networks (TCN) is a Deep Learning algorithm that is inspired by CNN which is mostly used for computer vision. Simply put, it slides a filter along the input features and computes an element-wise multiplication with a weight matrix. \n",
    "\n",
    "In our project, we want to use a one dimentional version of a CNN. Similarly, we will slide a filter along our time-series data and elemtent-wise multiply a continues sub-series with a weight vector. The output is quiet \"intuitive\": we are essentially taking for example 5 days before day i, and averaging out their data to forecast the data of day i. This can be done in multiple layers to cover more and more days as well as capture more complex relations between days.\n"
   ]
  },
  {
   "cell_type": "code",
   "execution_count": null,
   "id": "fd475f82-da8a-4d7f-9a7d-50e228267d80",
   "metadata": {},
   "outputs": [],
   "source": [
    "import src.darts__tcn as tcn\n",
    "import src.framework__test_bench as tb"
   ]
  },
  {
   "cell_type": "code",
   "execution_count": null,
   "id": "3dcd2065-3b57-440f-bfe2-b4546ca939df",
   "metadata": {},
   "outputs": [],
   "source": [
    "tb = tb.TestBench(\n",
    "    class_to_test=tcn.DartsTCNTester,\n",
    "    path_to_data=\"./data/\"\n",
    ")\n",
    "tb.run_training_and_tests()"
   ]
  }
 ],
 "metadata": {
  "kernelspec": {
   "display_name": "Python 3 (ipykernel)",
   "language": "python",
   "name": "python3"
  },
  "language_info": {
   "codemirror_mode": {
    "name": "ipython",
    "version": 3
   },
   "file_extension": ".py",
   "mimetype": "text/x-python",
   "name": "python",
   "nbconvert_exporter": "python",
   "pygments_lexer": "ipython3",
   "version": "3.9.1"
  }
 },
 "nbformat": 4,
 "nbformat_minor": 5
}
