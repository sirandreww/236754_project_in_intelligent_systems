{
 "cells": [
  {
   "cell_type": "markdown",
   "id": "df56602b-a665-458b-a581-dd1faa97b5e6",
   "metadata": {
    "tags": []
   },
   "source": [
    "# Transformer\n",
    "\n",
    "## What is a tranformer? \n",
    "\n",
    "Information can be found here:\n",
    "https://unit8co.github.io/darts/generated_api/darts.models.forecasting.transformer_model.html\n"
   ]
  },
  {
   "cell_type": "code",
   "execution_count": null,
   "id": "c63bdb1f-e62d-4f3f-90fe-6345d8004f93",
   "metadata": {},
   "outputs": [],
   "source": [
    "import src.darts__transformer as transformer\n",
    "import src.framework__test_bench as tb"
   ]
  },
  {
   "cell_type": "code",
   "execution_count": null,
   "id": "9b937e4f-bf66-4243-aa23-d3f649305cc7",
   "metadata": {
    "tags": []
   },
   "outputs": [],
   "source": [
    "tb = tb.TestBench(\n",
    "    class_to_test=transformer.DartsLSTMTester,\n",
    "    path_to_data=\"./data/\",\n",
    ")\n",
    "tb.run_training_and_tests()"
   ]
  },
  {
   "cell_type": "markdown",
   "id": "fa142111-b387-4e0b-83ee-81de093148ad",
   "metadata": {},
   "source": [
    "Let's print information about the hardware we're running on, this is so we make sure that training time comparisons are fair."
   ]
  },
  {
   "cell_type": "code",
   "execution_count": null,
   "id": "57599138-5fb0-4ef1-a9c5-bdb984df44c7",
   "metadata": {},
   "outputs": [],
   "source": [
    "import torch\n",
    "print(torch.cuda.get_device_name(0))\n",
    "!nvidia-smi"
   ]
  },
  {
   "cell_type": "markdown",
   "id": "0fc45a56-c48f-40ae-80b9-dca754fca171",
   "metadata": {},
   "source": [
    "Now we can make a table that summarizes the results:"
   ]
  },
  {
   "cell_type": "markdown",
   "id": "7d295bee-4454-4664-a129-13e6b7c8d9cb",
   "metadata": {
    "tags": []
   },
   "source": [
    "| metric   | app         | training time | mse | precision | recall | F1  | MASE | MAPE |\n",
    "| :-       | :-          | :-:           | :-: | :-:       | :-:    | :-: | :-:  | :-:  |"
   ]
  }
 ],
 "metadata": {
  "kernelspec": {
   "display_name": "Python 3 (ipykernel)",
   "language": "python",
   "name": "python3"
  },
  "language_info": {
   "codemirror_mode": {
    "name": "ipython",
    "version": 3
   },
   "file_extension": ".py",
   "mimetype": "text/x-python",
   "name": "python",
   "nbconvert_exporter": "python",
   "pygments_lexer": "ipython3",
   "version": "3.9.1"
  }
 },
 "nbformat": 4,
 "nbformat_minor": 5
}
