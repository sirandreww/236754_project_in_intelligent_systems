{
 "cells": [
  {
   "cell_type": "markdown",
   "id": "df56602b-a665-458b-a581-dd1faa97b5e6",
   "metadata": {},
   "source": [
    "# Test Bench\n",
    "\n",
    "Test bench is a class we created that takes in some perediction model and creates multiple instances of that model. Each instance is trained and tested on different data, it is used to easily access the quality of each model on multiple datasets."
   ]
  },
  {
   "cell_type": "markdown",
   "id": "987bd330-747e-46c8-a800-b04f23f1700d",
   "metadata": {},
   "source": [
    "## How Is It Used?\n",
    "\n",
    "First define a class that has these functions:\n",
    "1. `learn_from_time_series`\n",
    "2. `predict`"
   ]
  },
  {
   "cell_type": "code",
   "execution_count": null,
   "id": "f03c077a-7885-4799-9e64-d24bcbc93882",
   "metadata": {},
   "outputs": [],
   "source": [
    "class DumbPredictor:\n",
    "    def learn_from_time_series(ts_as_df):\n",
    "        pass\n",
    "    def predict(ts_as_df_start, how_much_to_predict):\n",
    "        return ts_as_df_start"
   ]
  }
 ],
 "metadata": {
  "kernelspec": {
   "display_name": "Python 3",
   "language": "python",
   "name": "python3"
  },
  "language_info": {
   "codemirror_mode": {
    "name": "ipython",
    "version": 3
   },
   "file_extension": ".py",
   "mimetype": "text/x-python",
   "name": "python",
   "nbconvert_exporter": "python",
   "pygments_lexer": "ipython3",
   "version": "3.9.1"
  }
 },
 "nbformat": 4,
 "nbformat_minor": 5
}
