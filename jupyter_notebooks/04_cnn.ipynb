{
 "cells": [
  {
   "cell_type": "markdown",
   "id": "df56602b-a665-458b-a581-dd1faa97b5e6",
   "metadata": {
    "tags": []
   },
   "source": [
    "# 236754 Project In Intelligent Systems\n",
    "\n",
    "CNN for time-series forcasting\n",
    "# Introduction\n",
    "\n",
    "The project is ..\n",
    "the goal is ...\n",
    "the algos that will be tested are ..\n",
    "\n",
    "# Data\n",
    "\n",
    "The data was fetched with : https://github.com/sirandreww/operate_first_prometheus_data.git\n",
    "\n",
    "The data was fetch with the queries :\n",
    "\n",
    "sum(container_memory_working_set_bytes{name!~\".*prometheus.*\", image!=\"\", container!=\"POD\", cluster=\"moc/smaug\"}) by (container, pod, namespace, node)\n",
    "\n",
    "sum(rate(container_cpu_usage_seconds_total{name!~\".*prometheus.*\", image!=\"\", container!=\"POD\", cluster=\"moc/smaug\"}[5m])) by (container, pod, namespace, node)\n",
    "\n",
    "# Using data in python\n",
    "\n",
    "pytorch/numpy/scipy/tensorflow\n",
    "filtering/encoding ...\n",
    "\n",
    "# Questions:\n",
    "1) deadline - done\n",
    "2) is it correct how we pull the data?\n",
    "3) how to use the data (pytorch, numpy,....)?\n",
    "4) which algorithms to test...?\n",
    "5) libraries of the algorithims, don't expect to implement :@\n",
    "6) code examples\n",
    "\n",
    "\n",
    "# Algorithm 1 - \n",
    "\n",
    "# Algorithm 2 -\n",
    "\n",
    "# Algorithm 3 - \n",
    "\n",
    "# Algorithm 4 -\n",
    "\n",
    "# Algorithm 5 - \n",
    "\n",
    "# Algorithm 6 -\n",
    "\n",
    "# Algorithm 7 - \n",
    "\n",
    "# Algorithm 8 -\n",
    "\n",
    "# Algorithm 9 - \n",
    "\n",
    "# Algorithm 10 -\n"
   ]
  },
  {
   "cell_type": "code",
   "execution_count": null,
   "id": "07780ca9-7bcd-45d5-8d97-e91dbf7cdda7",
   "metadata": {},
   "outputs": [],
   "source": []
  }
 ],
 "metadata": {
  "kernelspec": {
   "display_name": "Python 3 (ipykernel)",
   "language": "python",
   "name": "python3"
  },
  "language_info": {
   "codemirror_mode": {
    "name": "ipython",
    "version": 3
   },
   "file_extension": ".py",
   "mimetype": "text/x-python",
   "name": "python",
   "nbconvert_exporter": "python",
   "pygments_lexer": "ipython3",
   "version": "3.8.12"
  }
 },
 "nbformat": 4,
 "nbformat_minor": 5
}
