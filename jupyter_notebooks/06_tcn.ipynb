{
 "cells": [
  {
   "cell_type": "markdown",
   "id": "df56602b-a665-458b-a581-dd1faa97b5e6",
   "metadata": {
    "tags": []
   },
   "source": [
    "# Temporal Convolutional Networks (TCN)\n",
    "\n",
    "## What is TCN?\n",
    "\n",
    "Temporal Convolutional Networks (TCN) is a Deep Learning algorithm that is inspired by CNN which is mostly used for computer vision. Simply put, it slides a filter along the input features and computes an element-wise multiplication with a weight matrix. \n",
    "\n",
    "In our project, we want to use a one dimentional version of a CNN. Similarly, we will slide a filter along our time-series data and elemtent-wise multiply a continues sub-series with a weight vector. The output is quiet \"intuitive\": we are essentially taking for example 5 days before day i, and averaging out their data to forecast the data of day i. This can be done in multiple layers to cover more and more days as well as capture more complex relations between days.\n"
   ]
  },
  {
   "cell_type": "code",
   "execution_count": 1,
   "id": "fd475f82-da8a-4d7f-9a7d-50e228267d80",
   "metadata": {},
   "outputs": [],
   "source": [
    "import src.darts__tcn as tcn\n",
    "import src.framework__test_bench as tb"
   ]
  },
  {
   "cell_type": "code",
   "execution_count": null,
   "id": "3dcd2065-3b57-440f-bfe2-b4546ca939df",
   "metadata": {},
   "outputs": [
    {
     "name": "stdout",
     "output_type": "stream",
     "text": [
      "[TEST BENCH] Powering on test bench\n",
      "[TEST BENCH] testing metric='node_mem', app='moc/smaug'.\n",
      "[TEST BENCH] Fetching data for metric='node_mem', app='moc/smaug'.\n",
      "[TEST BENCH] Subsampling data from 1 sample per 1 minute to 1 sample per 30 minutes.\n",
      "[TEST BENCH] Throwing out data that is less than 15.0 hours long.\n",
      "[TEST BENCH] Scaling data.\n",
      "[TEST BENCH] Splitting data into train and test\n",
      "[TEST BENCH] Amount of train/test data is 61\n",
      "[TEST BENCH] Making an instance of the class we want to test\n",
      "[TEST BENCH] Starting training loop\n"
     ]
    }
   ],
   "source": [
    "tb = tb.TestBench(\n",
    "    class_to_test=tcn.DartsTCNTester,\n",
    "    path_to_data=\"./data/\",\n",
    "    \n",
    ")\n",
    "tb.run_training_and_tests()"
   ]
  },
  {
   "cell_type": "markdown",
   "id": "7afaeaa5-a543-45b0-a903-ee1feea14e83",
   "metadata": {},
   "source": [
    "Let's print information about the hardware we're running on, this is so we make sure that training time comparisons are fair."
   ]
  },
  {
   "cell_type": "code",
   "execution_count": null,
   "id": "1f43ddbb-5e20-44f9-985d-19cd062c7104",
   "metadata": {},
   "outputs": [],
   "source": [
    "import torch\n",
    "print(torch.cuda.get_device_name(0))\n",
    "!nvidia-smi"
   ]
  },
  {
   "cell_type": "markdown",
   "id": "c6adb4dd-2873-423e-bc97-35e9236fc8ce",
   "metadata": {},
   "source": [
    "Now we can make a table that summarizes the results:"
   ]
  },
  {
   "cell_type": "markdown",
   "id": "f58b2f15-4dba-4604-a57a-f64485c8a4ba",
   "metadata": {
    "tags": []
   },
   "source": [
    "| metric   | app         | training time | mse | precision | recall | F1  | MASE | MAPE |\n",
    "| :-       | :-          | :-:           | :-: | :-:       | :-:    | :-: | :-:  | :-:  |"
   ]
  }
 ],
 "metadata": {
  "kernelspec": {
   "display_name": "Python 3 (ipykernel)",
   "language": "python",
   "name": "python3"
  },
  "language_info": {
   "codemirror_mode": {
    "name": "ipython",
    "version": 3
   },
   "file_extension": ".py",
   "mimetype": "text/x-python",
   "name": "python",
   "nbconvert_exporter": "python",
   "pygments_lexer": "ipython3",
   "version": "3.10.4"
  }
 },
 "nbformat": 4,
 "nbformat_minor": 5
}
