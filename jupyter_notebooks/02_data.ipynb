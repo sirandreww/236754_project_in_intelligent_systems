{
 "cells": [
  {
   "cell_type": "markdown",
   "id": "df56602b-a665-458b-a581-dd1faa97b5e6",
   "metadata": {},
   "source": [
    "# Data\n",
    "\n",
    "To fetch the data we created a repository that housed a script that fetches the data.<br>\n",
    "The link to the repository can be found here : <br>\n",
    "https://github.com/sirandreww/operate_first_prometheus_data.git\n",
    "\n",
    "We have added more information about what data is being fetched and how in that repository.\n",
    "The main point being that the data we are pulling is:\n",
    "\n",
    "1. Memory-usage data for each container using this Prometheus query `sum(container_memory_working_set_bytes{name!~\".*prometheus.*\", image!=\"\", container!=\"POD\", cluster=\"moc/smaug\"}) by (container, pod, namespace, node)`.\n",
    "   \n",
    "2. CPU-usage data for each container using this Prometheus query `sum(rate(container_cpu_usage_seconds_total{name!~\".*prometheus.*\", image!=\"\", container!=\"POD\", cluster=\"moc/smaug\"}[5m])) by (container, pod, namespace, node)`.\n",
    "   \n",
    "3. Memory-usage percentage data for each node using this Prometheus query `node_memory_Active_bytes/node_memory_MemTotal_bytes*100`.\n"
   ]
  },
  {
   "cell_type": "markdown",
   "id": "987bd330-747e-46c8-a800-b04f23f1700d",
   "metadata": {},
   "source": [
    "The data is then merged and turned into json files in that repository. We have created code here that takes those json files and imports them into custom datasets for our project. Let's take a look shall we!"
   ]
  },
  {
   "cell_type": "code",
   "execution_count": null,
   "id": "81dee9a8-ebc4-4234-aa2c-754f1d1af255",
   "metadata": {},
   "outputs": [],
   "source": [
    "import src.data_set as ds"
   ]
  },
  {
   "cell_type": "markdown",
   "id": "de80d187-a834-48fd-853c-38d9019c0652",
   "metadata": {},
   "source": [
    "Getting the dataset for container memory data, for the cointainer bridge-marker."
   ]
  },
  {
   "cell_type": "code",
   "execution_count": null,
   "id": "8c0ff1be-d124-4174-b70d-85ded164c582",
   "metadata": {},
   "outputs": [],
   "source": [
    "dataset = ds.get_data_set(\n",
    "    metric=\"container_mem\",\n",
    "    application_name=\"bridge-marker\",\n",
    "    path_to_data=\"./data/\"\n",
    ")"
   ]
  },
  {
   "cell_type": "markdown",
   "id": "19594d6d-e7da-4bdf-b30b-a093b7cfc19c",
   "metadata": {},
   "source": [
    "Now let's plot some samples in the data to get a visual on what we're looking at."
   ]
  },
  {
   "cell_type": "code",
   "execution_count": null,
   "id": "5b40edf0-35cc-4481-8246-6d2e648c2c6a",
   "metadata": {},
   "outputs": [],
   "source": [
    "dataset.plot_dataset(number_of_samples=10)"
   ]
  },
  {
   "cell_type": "markdown",
   "id": "c999a251-01fe-404d-b6ea-83e021640e73",
   "metadata": {},
   "source": [
    "As we can see, we have a sample for each minute, we can further subsample the data to get data that is easier to generalize. Here we change the dataset so it is has samples 5 minutes appart:"
   ]
  },
  {
   "cell_type": "code",
   "execution_count": null,
   "id": "72ea0220-b9e5-4ed5-8c5c-62264308f9b9",
   "metadata": {},
   "outputs": [],
   "source": [
    "dataset.sub_sample_data(sub_sample_rate=5)"
   ]
  },
  {
   "cell_type": "markdown",
   "id": "87cb6055-fa9b-4e57-b47b-6bbd0d5a8e5a",
   "metadata": {},
   "source": [
    "Let's plot again to see how the samples look now."
   ]
  },
  {
   "cell_type": "code",
   "execution_count": null,
   "id": "efc21148-c9a6-4419-b397-00887afa2da0",
   "metadata": {},
   "outputs": [],
   "source": [
    "dataset.plot_dataset(number_of_samples=10)"
   ]
  },
  {
   "cell_type": "markdown",
   "id": "043d0c60-6baa-4c8a-9c5c-19ccd5703079",
   "metadata": {},
   "source": [
    "The data is highly variable and is not normalized, let's normalize it."
   ]
  },
  {
   "cell_type": "code",
   "execution_count": null,
   "id": "049316dd-cb2b-43b2-a67b-ee46a8dd3c58",
   "metadata": {},
   "outputs": [],
   "source": [
    "dataset.normalize_data()"
   ]
  },
  {
   "cell_type": "markdown",
   "id": "ff082597-2663-4759-9c03-11a9fa096f94",
   "metadata": {},
   "source": [
    "Let's plot again to see how the samples look now."
   ]
  },
  {
   "cell_type": "code",
   "execution_count": null,
   "id": "9fef5814-b8a4-46df-b271-c3f80a9b5abc",
   "metadata": {},
   "outputs": [],
   "source": [
    "dataset.plot_dataset(number_of_samples=10)"
   ]
  }
 ],
 "metadata": {
  "kernelspec": {
   "display_name": "Python 3",
   "language": "python",
   "name": "python3"
  },
  "language_info": {
   "codemirror_mode": {
    "name": "ipython",
    "version": 3
   },
   "file_extension": ".py",
   "mimetype": "text/x-python",
   "name": "python",
   "nbconvert_exporter": "python",
   "pygments_lexer": "ipython3",
   "version": "3.9.1"
  }
 },
 "nbformat": 4,
 "nbformat_minor": 5
}
