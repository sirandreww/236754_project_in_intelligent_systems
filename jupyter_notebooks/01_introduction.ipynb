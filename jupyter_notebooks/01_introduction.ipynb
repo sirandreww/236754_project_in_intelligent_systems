{
 "cells": [
  {
   "cell_type": "markdown",
   "id": "df56602b-a665-458b-a581-dd1faa97b5e6",
   "metadata": {},
   "source": [
    "# Introduction\n",
    "\n",
    "This repository is meant to house our submittion for 236754 - Project in Intelligent Systems - Spring 2022.\n",
    "\n",
    "In order to explain what we're trying to do here, let's first talk about Kubernetes.\n",
    "Kubernetes is a leading open source framework for container orchestration - the process of automating deployment and managing applications in a containerized and clustered environment.\n",
    "\n",
    "At its basic level, Kubernetes runs and coordinates container-based applications across a cluster of machines. It is designed to completely manage the life cycle of containerized applications and services using methods that provide predictability, scalability, and high availability. A Kubernetes user provides the applications to be deployed in the form of pods - basic units of execution containing one or more tightly-coupled containers. These pods are then assigned to nodes, that represent actual computing resources such as physical or virtual servers. A collection of nodes forms a Kubernetes cluster, managed by the control plane.\n",
    "\n",
    "One of the most important tasks of a Kubernetes cluster admin is to constantly monitor the status of the cluster and react accordingly when situations of interest occur or anomalies in the workflow are detected (such as an application failure or a malfunctioning node). The de facto standard monitoring software framework utilized to that end is called Prometheus. As illustrated in the figure below, Prometheus collects real-time metrics from application services and nodes (up to millions of metrics per second), stores them in a time-series database, and provides a convenient visualization tool for the user to examine, query and analyze the data.\n",
    "The project is ..\n",
    "the goal is ...\n",
    "the algos that will be tested are ..\n",
    "\n"
   ]
  },
  {
   "cell_type": "code",
   "execution_count": null,
   "id": "07780ca9-7bcd-45d5-8d97-e91dbf7cdda7",
   "metadata": {},
   "outputs": [],
   "source": []
  }
 ],
 "metadata": {
  "kernelspec": {
   "display_name": "Python 3",
   "language": "python",
   "name": "python3"
  },
  "language_info": {
   "codemirror_mode": {
    "name": "ipython",
    "version": 3
   },
   "file_extension": ".py",
   "mimetype": "text/x-python",
   "name": "python",
   "nbconvert_exporter": "python",
   "pygments_lexer": "ipython3",
   "version": "3.9.1"
  }
 },
 "nbformat": 4,
 "nbformat_minor": 5
}
