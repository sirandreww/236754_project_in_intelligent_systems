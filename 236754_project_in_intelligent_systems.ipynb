{
 "cells": [
  {
   "cell_type": "markdown",
   "id": "df56602b-a665-458b-a581-dd1faa97b5e6",
   "metadata": {},
   "source": [
    "# 236754_project_in_intelligent_systems\n",
    "\n",
    "This is out submittion for prok...\n",
    "\n",
    "# Introduction\n",
    "\n",
    "The project is ..\n",
    "the goal is ...\n",
    "the algos that will be tested are ..\n",
    "\n",
    "# Data\n",
    "\n",
    "The data was fetched with : https://github.com/sirandreww/operate_first_prometheus_data.git\n",
    "\n",
    "The data was fetch with the queries :\n",
    "\n",
    "sum(container_memory_working_set_bytes{name!~\".*prometheus.*\", image!=\"\", container!=\"POD\", cluster=\"moc/smaug\"}) by (container, pod, namespace, node)\n",
    "\n",
    "sum(rate(container_cpu_usage_seconds_total{name!~\".*prometheus.*\", image!=\"\", container!=\"POD\", cluster=\"moc/smaug\"}[5m])) by (container, pod, namespace, node)\n",
    "\n",
    "# \n",
    "\n"
   ]
  },
  {
   "cell_type": "code",
   "execution_count": null,
   "id": "07780ca9-7bcd-45d5-8d97-e91dbf7cdda7",
   "metadata": {},
   "outputs": [],
   "source": []
  }
 ],
 "metadata": {
  "kernelspec": {
   "display_name": "Python 3",
   "language": "python",
   "name": "python3"
  },
  "language_info": {
   "codemirror_mode": {
    "name": "ipython",
    "version": 3
   },
   "file_extension": ".py",
   "mimetype": "text/x-python",
   "name": "python",
   "nbconvert_exporter": "python",
   "pygments_lexer": "ipython3",
   "version": "3.9.1"
  }
 },
 "nbformat": 4,
 "nbformat_minor": 5
}
