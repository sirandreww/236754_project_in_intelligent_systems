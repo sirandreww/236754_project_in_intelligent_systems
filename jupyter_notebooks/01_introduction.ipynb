{
 "cells": [
  {
   "cell_type": "markdown",
   "id": "df56602b-a665-458b-a581-dd1faa97b5e6",
   "metadata": {},
   "source": [
    "# Introduction\n",
    "\n",
    "This repository is meant to house our submittion for 236754 - Project in Intelligent Systems - Spring 2022.\n",
    "\n",
    "In order to explain what we're trying to do here, let's first talk about Kubernetes.\n",
    "Kubernetes is an open source software that manages, automates, deploys and hosts containerized applications.\n",
    "User of kubernetes provides a pod of contrainerized application that is deployed on the cloud. Kuberentes then is in charge of running the pod and provides the needed resources such as CPU and storage when needed. \n",
    "\n",
    "A few term definitions that will be helpful:\n",
    "\n",
    "1. Container: consists of an entire runtime environment of a task. such as the application code, needed libraries and more.\n",
    "2. Pod: a set of containers. a pod is in charge of supporting these containers. all containers that are in the same pod , share the same physical or virtual machine in the cluster.\n",
    "3. Node: is a virtual or physical machine that run the pods. \n",
    "4. Namespaces: in a cluster, namespaces are used to seperate different resources.\n",
    "5. Deployement: is used to change the state of a specific pod. The user can request a change of state of a specific pod, the deployment controller would then change the state.\n",
    "\n",
    "Promethius is an open-source monitoring system. Promethius uses Kubernetes and collects time-series data about the running pods, nodes and more. \n",
    "The collected metrics include CPU usage, memory usage and etc.\n",
    "The data collected gives the users an apprehensive insight about their applications whilst providing real-time metrics that would help them problem-solve.\n",
    "\n",
    "Introducing our project: \n",
    "Motivation: \n",
    "When the user wants a pod to be deployed, Kubernetes needs to allocate resources for that pod to run: most common resources being CPU and storage. This information is specified by the user and given to the kubernetes scheduler which then becomes the limit of cpu/storage that the pod can use. If a pod exceeds the limit, it will be terminated. This can lead to the phenomenon of over-asking for cpu/storage which un-needingly limits the free cpu/storage that the cluster can have.  \n",
    "\n",
    "Our project will aim to use deep learning to forecast cpu/storage usage of a given container. We will use time-series data about cpu/storage usage provided by Promethius to learn and forcast future cpu/storage usage.\n",
    "Our goal is maximize our forcasting abilities and thus use the results to allocate cpu/storage more accurately in the future.\n",
    "The algorithms that we will focus on are:\n",
    "1. LSTM\n",
    "2. CNN\n",
    "3. DeepAR"
   ]
  },
  {
   "cell_type": "code",
   "execution_count": null,
   "id": "07780ca9-7bcd-45d5-8d97-e91dbf7cdda7",
   "metadata": {},
   "outputs": [],
   "source": []
  }
 ],
 "metadata": {
  "kernelspec": {
   "display_name": "Python 3",
   "language": "python",
   "name": "python3"
  },
  "language_info": {
   "codemirror_mode": {
    "name": "ipython",
    "version": 3
   },
   "file_extension": ".py",
   "mimetype": "text/x-python",
   "name": "python",
   "nbconvert_exporter": "python",
   "pygments_lexer": "ipython3",
   "version": "3.9.1"
  }
 },
 "nbformat": 4,
 "nbformat_minor": 5
}
