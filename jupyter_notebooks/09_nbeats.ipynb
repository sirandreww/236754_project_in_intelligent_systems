{
 "cells": [
  {
   "cell_type": "markdown",
   "id": "df56602b-a665-458b-a581-dd1faa97b5e6",
   "metadata": {
    "tags": []
   },
   "source": [
    "# N-BEATS\n",
    "\n",
    "Information can be found here:\n",
    "https://unit8co.github.io/darts/generated_api/darts.models.forecasting.nbeats.html\n"
   ]
  },
  {
   "cell_type": "code",
   "execution_count": null,
   "id": "c63bdb1f-e62d-4f3f-90fe-6345d8004f93",
   "metadata": {},
   "outputs": [],
   "source": [
    "import src.darts__nbeats as nbeats\n",
    "import src.framework__test_bench as tb"
   ]
  },
  {
   "cell_type": "code",
   "execution_count": null,
   "id": "9b937e4f-bf66-4243-aa23-d3f649305cc7",
   "metadata": {
    "tags": []
   },
   "outputs": [],
   "source": [
    "tb = tb.TestBench(\n",
    "    class_to_test=nbeats.DartsNBEATSTester,\n",
    "    path_to_data=\"./data/\",\n",
    ")\n",
    "tb.run_training_and_tests()"
   ]
  }
 ],
 "metadata": {
  "kernelspec": {
   "display_name": "Python 3 (ipykernel)",
   "language": "python",
   "name": "python3"
  },
  "language_info": {
   "codemirror_mode": {
    "name": "ipython",
    "version": 3
   },
   "file_extension": ".py",
   "mimetype": "text/x-python",
   "name": "python",
   "nbconvert_exporter": "python",
   "pygments_lexer": "ipython3",
   "version": "3.9.1"
  }
 },
 "nbformat": 4,
 "nbformat_minor": 5
}
