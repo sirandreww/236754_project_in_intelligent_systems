{
 "cells": [
  {
   "cell_type": "markdown",
   "id": "df56602b-a665-458b-a581-dd1faa97b5e6",
   "metadata": {},
   "source": [
    "# Test Bench\n",
    "\n",
    "Test bench is a class we created that takes in some perediction model and creates multiple instances of that model. Each instance is trained and tested on different data, it is used to easily access the quality of each model on multiple datasets."
   ]
  },
  {
   "cell_type": "markdown",
   "id": "987bd330-747e-46c8-a800-b04f23f1700d",
   "metadata": {},
   "source": [
    "## How Is It Used?\n",
    "\n",
    "First define a class that has these functions:\n",
    "1. `learn_from_time_series`\n",
    "2. `predict`"
   ]
  },
  {
   "cell_type": "code",
   "execution_count": 1,
   "id": "f03c077a-7885-4799-9e64-d24bcbc93882",
   "metadata": {},
   "outputs": [],
   "source": [
    "class DumbPredictor:\n",
    "    def __init__(self):\n",
    "        pass\n",
    "\n",
    "    def learn_from_time_series(self, ts_as_df):\n",
    "        pass\n",
    "\n",
    "    def predict(self, ts_as_df_start, how_much_to_predict):\n",
    "        return ts_as_df_start[: how_much_to_predict]"
   ]
  },
  {
   "cell_type": "markdown",
   "id": "eb30ae37-7d12-47d9-bca4-79f65d597b85",
   "metadata": {},
   "source": [
    "After the model has been defined (including how you choose to you use each sample for learning, what optimization algorithms and so on) you can send the model to the test_bench to be used for prediction on multiple models."
   ]
  },
  {
   "cell_type": "code",
   "execution_count": null,
   "id": "a888a3b0-52ec-44e8-b6c6-e7ae1f163e03",
   "metadata": {},
   "outputs": [],
   "source": []
  }
 ],
 "metadata": {
  "kernelspec": {
   "display_name": "Python 3",
   "language": "python",
   "name": "python3"
  },
  "language_info": {
   "codemirror_mode": {
    "name": "ipython",
    "version": 3
   },
   "file_extension": ".py",
   "mimetype": "text/x-python",
   "name": "python",
   "nbconvert_exporter": "python",
   "pygments_lexer": "ipython3",
   "version": "3.9.1"
  }
 },
 "nbformat": 4,
 "nbformat_minor": 5
}
