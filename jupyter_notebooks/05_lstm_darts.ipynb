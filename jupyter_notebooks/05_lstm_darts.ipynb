{
 "cells": [
  {
   "cell_type": "markdown",
   "id": "df56602b-a665-458b-a581-dd1faa97b5e6",
   "metadata": {
    "tags": []
   },
   "source": [
    "# Long Short-Term Memory (LSTM) Using Darts\n",
    "\n",
    "## What is Darts? \n",
    "\n",
    "Darts is a python time series forcasting library. We wanted to see what it can do with its implementation of lstm. How much does it differ from ours? Is it better or worse? what about trainning time? It is generally better to use a library then implement everything by hand. We will be using darts for the upcoming time series forcasting models.\n",
    "\n",
    "Using darts enables us to test different algorithms faster and to tune parameters faster."
   ]
  },
  {
   "cell_type": "code",
   "execution_count": 1,
   "id": "c63bdb1f-e62d-4f3f-90fe-6345d8004f93",
   "metadata": {},
   "outputs": [],
   "source": [
    "import src.darts__lstm as lstm\n",
    "import src.framework__test_bench as tb"
   ]
  },
  {
   "cell_type": "code",
   "execution_count": 2,
   "id": "9b937e4f-bf66-4243-aa23-d3f649305cc7",
   "metadata": {
    "tags": []
   },
   "outputs": [
    {
     "name": "stdout",
     "output_type": "stream",
     "text": [
      "[TEST BENCH] Powering on test bench\n",
      "[TEST BENCH] testing metric='container_mem', app='keepalived'.\n",
      "[TEST BENCH] Fetching data for metric='container_mem', app='keepalived'.\n",
      "[TEST BENCH] Subsampling data from 1 sample per 1 minute to 1 sample per 30 minutes.\n",
      "[TEST BENCH] Throwing out data that is less than 15.0 hours long.\n",
      "[TEST BENCH] Scaling data.\n",
      "[TEST BENCH] Splitting data into train and test\n",
      "[TEST BENCH] Amount of train/test data is 435\n",
      "[TEST BENCH] Making an instance of the class we want to test\n",
      "[TEST BENCH] Starting training loop\n"
     ]
    },
    {
     "ename": "AttributeError",
     "evalue": "module 'darts.utils' has no attribute 'losses'",
     "output_type": "error",
     "traceback": [
      "\u001b[0;31m---------------------------------------------------------------------------\u001b[0m",
      "\u001b[0;31mAttributeError\u001b[0m                            Traceback (most recent call last)",
      "Input \u001b[0;32mIn [2]\u001b[0m, in \u001b[0;36m<cell line: 6>\u001b[0;34m()\u001b[0m\n\u001b[1;32m      1\u001b[0m tb \u001b[38;5;241m=\u001b[39m tb\u001b[38;5;241m.\u001b[39mTestBench(\n\u001b[1;32m      2\u001b[0m     class_to_test\u001b[38;5;241m=\u001b[39mlstm\u001b[38;5;241m.\u001b[39mDartsLSTMTester,\n\u001b[1;32m      3\u001b[0m     path_to_data\u001b[38;5;241m=\u001b[39m\u001b[38;5;124m\"\u001b[39m\u001b[38;5;124m./data/\u001b[39m\u001b[38;5;124m\"\u001b[39m,\n\u001b[1;32m      4\u001b[0m     tests_to_perform\u001b[38;5;241m=\u001b[39m[{\u001b[38;5;124m\"\u001b[39m\u001b[38;5;124mmetric\u001b[39m\u001b[38;5;124m\"\u001b[39m: \u001b[38;5;124m\"\u001b[39m\u001b[38;5;124mcontainer_mem\u001b[39m\u001b[38;5;124m\"\u001b[39m, \u001b[38;5;124m\"\u001b[39m\u001b[38;5;124mapp\u001b[39m\u001b[38;5;124m\"\u001b[39m: \u001b[38;5;124m\"\u001b[39m\u001b[38;5;124mkeepalived\u001b[39m\u001b[38;5;124m\"\u001b[39m, \u001b[38;5;124m\"\u001b[39m\u001b[38;5;124mprediction length\u001b[39m\u001b[38;5;124m\"\u001b[39m: \u001b[38;5;241m16\u001b[39m, \u001b[38;5;124m\"\u001b[39m\u001b[38;5;124msub sample rate\u001b[39m\u001b[38;5;124m\"\u001b[39m: \u001b[38;5;241m30\u001b[39m, \u001b[38;5;124m\"\u001b[39m\u001b[38;5;124mdata length limit\u001b[39m\u001b[38;5;124m\"\u001b[39m: \u001b[38;5;241m30\u001b[39m},]\n\u001b[1;32m      5\u001b[0m )\n\u001b[0;32m----> 6\u001b[0m \u001b[43mtb\u001b[49m\u001b[38;5;241;43m.\u001b[39;49m\u001b[43mrun_training_and_tests\u001b[49m\u001b[43m(\u001b[49m\u001b[43m)\u001b[49m\n",
      "File \u001b[0;32m~/project_in_intelligent_systems/236754_project_in_intelligent_systems/jupyter_notebooks/src/framework__test_bench.py:310\u001b[0m, in \u001b[0;36mTestBench.run_training_and_tests\u001b[0;34m(self)\u001b[0m\n\u001b[1;32m    308\u001b[0m     metric \u001b[38;5;241m=\u001b[39m dictionary[\u001b[38;5;124m\"\u001b[39m\u001b[38;5;124mmetric\u001b[39m\u001b[38;5;124m\"\u001b[39m]\n\u001b[1;32m    309\u001b[0m     \u001b[38;5;28mprint\u001b[39m(\u001b[38;5;28mself\u001b[39m\u001b[38;5;241m.\u001b[39m__msg, \u001b[38;5;124mf\u001b[39m\u001b[38;5;124m\"\u001b[39m\u001b[38;5;124mtesting metric=\u001b[39m\u001b[38;5;124m'\u001b[39m\u001b[38;5;132;01m{\u001b[39;00mmetric\u001b[38;5;132;01m}\u001b[39;00m\u001b[38;5;124m'\u001b[39m\u001b[38;5;124m, app=\u001b[39m\u001b[38;5;124m'\u001b[39m\u001b[38;5;132;01m{\u001b[39;00mapp\u001b[38;5;132;01m}\u001b[39;00m\u001b[38;5;124m'\u001b[39m\u001b[38;5;124m.\u001b[39m\u001b[38;5;124m\"\u001b[39m)\n\u001b[0;32m--> 310\u001b[0m     mse, precision, recall, f1, training_time, mase, mape \u001b[38;5;241m=\u001b[39m \u001b[38;5;28;43mself\u001b[39;49m\u001b[38;5;241;43m.\u001b[39;49m\u001b[43m__do_one_test\u001b[49m\u001b[43m(\u001b[49m\u001b[43mdictionary\u001b[49m\u001b[38;5;241;43m=\u001b[39;49m\u001b[43mdictionary\u001b[49m\u001b[43m)\u001b[49m\n\u001b[1;32m    311\u001b[0m     full_report \u001b[38;5;241m+\u001b[39m\u001b[38;5;241m=\u001b[39m [(mse, precision, recall, f1, training_time, mase, mape)]\n\u001b[1;32m    312\u001b[0m \u001b[38;5;28;01massert\u001b[39;00m \u001b[38;5;28mlen\u001b[39m(full_report) \u001b[38;5;241m==\u001b[39m \u001b[38;5;28mlen\u001b[39m(\u001b[38;5;28mself\u001b[39m\u001b[38;5;241m.\u001b[39m__tests_to_perform)\n",
      "File \u001b[0;32m~/project_in_intelligent_systems/236754_project_in_intelligent_systems/jupyter_notebooks/src/framework__test_bench.py:284\u001b[0m, in \u001b[0;36mTestBench.__do_one_test\u001b[0;34m(self, dictionary)\u001b[0m\n\u001b[1;32m    282\u001b[0m \u001b[38;5;28mprint\u001b[39m(\u001b[38;5;28mself\u001b[39m\u001b[38;5;241m.\u001b[39m__msg, \u001b[38;5;124m\"\u001b[39m\u001b[38;5;124mStarting training loop\u001b[39m\u001b[38;5;124m\"\u001b[39m)\n\u001b[1;32m    283\u001b[0m training_start_time \u001b[38;5;241m=\u001b[39m time\u001b[38;5;241m.\u001b[39mtime()\n\u001b[0;32m--> 284\u001b[0m \u001b[43mmodel\u001b[49m\u001b[38;5;241;43m.\u001b[39;49m\u001b[43mlearn_from_data_set\u001b[49m\u001b[43m(\u001b[49m\u001b[43mtraining_data_set\u001b[49m\u001b[38;5;241;43m=\u001b[39;49m\u001b[43mtrain\u001b[49m\u001b[43m)\u001b[49m\n\u001b[1;32m    285\u001b[0m training_stop_time \u001b[38;5;241m=\u001b[39m time\u001b[38;5;241m.\u001b[39mtime()\n\u001b[1;32m    286\u001b[0m training_time \u001b[38;5;241m=\u001b[39m training_stop_time \u001b[38;5;241m-\u001b[39m training_start_time\n",
      "File \u001b[0;32m~/project_in_intelligent_systems/236754_project_in_intelligent_systems/jupyter_notebooks/src/darts__lstm.py:102\u001b[0m, in \u001b[0;36mDartsLSTMTester.learn_from_data_set\u001b[0;34m(self, training_data_set)\u001b[0m\n\u001b[1;32m     89\u001b[0m \u001b[38;5;28;01mif\u001b[39;00m look_for_hp:\n\u001b[1;32m     90\u001b[0m     \u001b[38;5;28;01mfrom\u001b[39;00m \u001b[38;5;21;01mray\u001b[39;00m \u001b[38;5;28;01mimport\u001b[39;00m tune\n\u001b[1;32m     91\u001b[0m     dh\u001b[38;5;241m.\u001b[39mfind_best_hyper_parameters(\n\u001b[1;32m     92\u001b[0m         config\u001b[38;5;241m=\u001b[39m{\n\u001b[1;32m     93\u001b[0m             \u001b[38;5;124m\"\u001b[39m\u001b[38;5;124minput_chunk_length\u001b[39m\u001b[38;5;124m\"\u001b[39m: tune\u001b[38;5;241m.\u001b[39mchoice([\u001b[38;5;28mself\u001b[39m\u001b[38;5;241m.\u001b[39m__length_of_shortest_time_series \u001b[38;5;241m/\u001b[39m\u001b[38;5;241m/\u001b[39m \u001b[38;5;241m2\u001b[39m]),\n\u001b[1;32m     94\u001b[0m             \u001b[38;5;124m\"\u001b[39m\u001b[38;5;124moutput_chunk_length\u001b[39m\u001b[38;5;124m\"\u001b[39m: tune\u001b[38;5;241m.\u001b[39mchoice([\u001b[38;5;241m1\u001b[39m]),\n\u001b[1;32m     95\u001b[0m             \u001b[38;5;124m\"\u001b[39m\u001b[38;5;124mmodel\u001b[39m\u001b[38;5;124m\"\u001b[39m: tune\u001b[38;5;241m.\u001b[39mchoice([\u001b[38;5;124m\"\u001b[39m\u001b[38;5;124mLSTM\u001b[39m\u001b[38;5;124m\"\u001b[39m]),\n\u001b[1;32m     96\u001b[0m             \u001b[38;5;124m\"\u001b[39m\u001b[38;5;124mhidden_dim\u001b[39m\u001b[38;5;124m\"\u001b[39m: tune\u001b[38;5;241m.\u001b[39mchoice([i \u001b[38;5;28;01mfor\u001b[39;00m i \u001b[38;5;129;01min\u001b[39;00m \u001b[38;5;28mrange\u001b[39m(\u001b[38;5;241m32\u001b[39m, \u001b[38;5;241m200\u001b[39m)]),\n\u001b[1;32m     97\u001b[0m             \u001b[38;5;124m\"\u001b[39m\u001b[38;5;124mn_rnn_layers\u001b[39m\u001b[38;5;124m\"\u001b[39m: tune\u001b[38;5;241m.\u001b[39mchoice([\u001b[38;5;241m1\u001b[39m, \u001b[38;5;241m2\u001b[39m, \u001b[38;5;241m3\u001b[39m, \u001b[38;5;241m4\u001b[39m, \u001b[38;5;241m5\u001b[39m, \u001b[38;5;241m6\u001b[39m, \u001b[38;5;241m7\u001b[39m]),\n\u001b[1;32m     98\u001b[0m             \u001b[38;5;124m\"\u001b[39m\u001b[38;5;124mdropout\u001b[39m\u001b[38;5;124m\"\u001b[39m: tune\u001b[38;5;241m.\u001b[39muniform(\u001b[38;5;241m0\u001b[39m, \u001b[38;5;241m0.2\u001b[39m),\n\u001b[1;32m     99\u001b[0m             \u001b[38;5;124m\"\u001b[39m\u001b[38;5;124mtraining_length\u001b[39m\u001b[38;5;124m\"\u001b[39m: tune\u001b[38;5;241m.\u001b[39mchoice([\u001b[38;5;28mself\u001b[39m\u001b[38;5;241m.\u001b[39m__length_of_shortest_time_series \u001b[38;5;241m-\u001b[39m \u001b[38;5;241m1\u001b[39m]),\n\u001b[1;32m    100\u001b[0m             \u001b[38;5;66;03m# shared for all models\u001b[39;00m\n\u001b[1;32m    101\u001b[0m             \u001b[38;5;124m\"\u001b[39m\u001b[38;5;124mbatch_size\u001b[39m\u001b[38;5;124m\"\u001b[39m: tune\u001b[38;5;241m.\u001b[39mchoice([i \u001b[38;5;28;01mfor\u001b[39;00m i \u001b[38;5;129;01min\u001b[39;00m \u001b[38;5;28mrange\u001b[39m(\u001b[38;5;241m32\u001b[39m, \u001b[38;5;241m200\u001b[39m)]),\n\u001b[0;32m--> 102\u001b[0m             \u001b[38;5;124m\"\u001b[39m\u001b[38;5;124mloss_fn\u001b[39m\u001b[38;5;124m\"\u001b[39m: tune\u001b[38;5;241m.\u001b[39mchoice([\u001b[43mdarts\u001b[49m\u001b[38;5;241;43m.\u001b[39;49m\u001b[43mutils\u001b[49m\u001b[38;5;241;43m.\u001b[39;49m\u001b[43mlosses\u001b[49m\u001b[38;5;241m.\u001b[39mMAELoss(), torch\u001b[38;5;241m.\u001b[39mnn\u001b[38;5;241m.\u001b[39mMSELoss(), darts\u001b[38;5;241m.\u001b[39mutils\u001b[38;5;241m.\u001b[39mlosses\u001b[38;5;241m.\u001b[39mMapeLoss()])\n\u001b[1;32m    103\u001b[0m         },\n\u001b[1;32m    104\u001b[0m         train_model\u001b[38;5;241m=\u001b[39m\u001b[38;5;28mself\u001b[39m\u001b[38;5;241m.\u001b[39mtrain_model_for_hp_tuning,\n\u001b[1;32m    105\u001b[0m         training_data_set\u001b[38;5;241m=\u001b[39mtraining_data_set,\n\u001b[1;32m    106\u001b[0m         length_to_predict\u001b[38;5;241m=\u001b[39m\u001b[38;5;28;01mNone\u001b[39;00m,\n\u001b[1;32m    107\u001b[0m         split_vertically\u001b[38;5;241m=\u001b[39m\u001b[38;5;28;01mFalse\u001b[39;00m\n\u001b[1;32m    108\u001b[0m     )\n\u001b[1;32m    109\u001b[0m \u001b[38;5;28;01melse\u001b[39;00m:\n\u001b[1;32m    110\u001b[0m     \u001b[38;5;28;01massert\u001b[39;00m \u001b[38;5;28mmin\u001b[39m(\u001b[38;5;28mlen\u001b[39m(df) \u001b[38;5;28;01mfor\u001b[39;00m df \u001b[38;5;129;01min\u001b[39;00m training_data_set) \u001b[38;5;241m>\u001b[39m\u001b[38;5;241m=\u001b[39m \u001b[38;5;28mself\u001b[39m\u001b[38;5;241m.\u001b[39m__length_of_shortest_time_series\n",
      "\u001b[0;31mAttributeError\u001b[0m: module 'darts.utils' has no attribute 'losses'"
     ]
    }
   ],
   "source": [
    "tb = tb.TestBench(\n",
    "    class_to_test=lstm.DartsLSTMTester,\n",
    "    path_to_data=\"./data/\",\n",
    "    tests_to_perform=[{\"metric\": \"container_mem\", \"app\": \"keepalived\", \"prediction length\": 16, \"sub sample rate\": 30, \"data length limit\": 30},]\n",
    ")\n",
    "tb.run_training_and_tests()"
   ]
  },
  {
   "cell_type": "markdown",
   "id": "fa142111-b387-4e0b-83ee-81de093148ad",
   "metadata": {},
   "source": [
    "Let's print information about the hardware we're running on, this is so we make sure that training time comparisons are fair."
   ]
  },
  {
   "cell_type": "code",
   "execution_count": null,
   "id": "57599138-5fb0-4ef1-a9c5-bdb984df44c7",
   "metadata": {},
   "outputs": [],
   "source": [
    "import torch\n",
    "print(torch.cuda.get_device_name(0))\n",
    "!nvidia-smi"
   ]
  },
  {
   "cell_type": "markdown",
   "id": "0fc45a56-c48f-40ae-80b9-dca754fca171",
   "metadata": {},
   "source": [
    "Now we can make a table that summarizes the results:"
   ]
  },
  {
   "cell_type": "markdown",
   "id": "7d295bee-4454-4664-a129-13e6b7c8d9cb",
   "metadata": {
    "tags": []
   },
   "source": [
    "| metric   | app         | training time | mse | precision | recall | F1  | MASE | MAPE |\n",
    "| :-       | :-          | :-:           | :-: | :-:       | :-:    | :-: | :-:  | :-:  |"
   ]
  }
 ],
 "metadata": {
  "kernelspec": {
   "display_name": "Python 3 (ipykernel)",
   "language": "python",
   "name": "python3"
  },
  "language_info": {
   "codemirror_mode": {
    "name": "ipython",
    "version": 3
   },
   "file_extension": ".py",
   "mimetype": "text/x-python",
   "name": "python",
   "nbconvert_exporter": "python",
   "pygments_lexer": "ipython3",
   "version": "3.10.4"
  }
 },
 "nbformat": 4,
 "nbformat_minor": 5
}
